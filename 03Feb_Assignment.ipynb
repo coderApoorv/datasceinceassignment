{
 "cells": [
  {
   "cell_type": "markdown",
   "id": "74dcc50b-80dc-4c4d-b410-37b94add0502",
   "metadata": {},
   "source": [
    "1. def keyword is used to define function"
   ]
  },
  {
   "cell_type": "code",
   "execution_count": 1,
   "id": "2c7bf313-eeae-46f4-b893-a40d13a42d09",
   "metadata": {},
   "outputs": [
    {
     "name": "stdout",
     "output_type": "stream",
     "text": [
      "1\n",
      "3\n",
      "5\n",
      "7\n",
      "9\n",
      "11\n",
      "13\n",
      "15\n",
      "17\n",
      "19\n",
      "21\n",
      "23\n",
      "25\n"
     ]
    }
   ],
   "source": [
    "def odd_numbers():\n",
    "    for i in range(1,26):\n",
    "        if i%2 != 0:\n",
    "            print(i)\n",
    "            \n",
    "odd_numbers()            "
   ]
  },
  {
   "cell_type": "markdown",
   "id": "7e0af2a7-403a-4050-9d6c-d281f00074f0",
   "metadata": {},
   "source": [
    "2. *args and **kwargs is used so that a function can accept any number of arguments as an input."
   ]
  },
  {
   "cell_type": "code",
   "execution_count": 3,
   "id": "e7a0e2e4-341c-4bbb-aed1-e593095aebf1",
   "metadata": {},
   "outputs": [
    {
     "data": {
      "text/plain": [
       "(1, 2, 3, 4)"
      ]
     },
     "execution_count": 3,
     "metadata": {},
     "output_type": "execute_result"
    }
   ],
   "source": [
    "def test(*args):\n",
    "    return args\n",
    "\n",
    "test(1,2,3,4)"
   ]
  },
  {
   "cell_type": "code",
   "execution_count": 6,
   "id": "6e6b2149-cc0f-47d1-89d1-ea6df75a5613",
   "metadata": {},
   "outputs": [
    {
     "data": {
      "text/plain": [
       "{'a': 1, 'b': 2, 'c': 3}"
      ]
     },
     "execution_count": 6,
     "metadata": {},
     "output_type": "execute_result"
    }
   ],
   "source": [
    "def test(**kwargs):\n",
    "    return kwargs\n",
    "\n",
    "test(a = 1, b = 2, c = 3)"
   ]
  },
  {
   "cell_type": "markdown",
   "id": "be6b4f70-6091-47d3-88cd-7392c528c57b",
   "metadata": {},
   "source": [
    "3. An iterator is an object that can be iterated or looped upon.\n",
    "\n",
    "\n",
    "    The method used to initialise the iterator object is iter() and the method used for iteration is next()"
   ]
  },
  {
   "cell_type": "code",
   "execution_count": 8,
   "id": "c3e3a775-2bab-4f37-b3fb-dec8aa9d96ff",
   "metadata": {},
   "outputs": [
    {
     "name": "stdout",
     "output_type": "stream",
     "text": [
      "2\n",
      "4\n",
      "6\n",
      "8\n",
      "10\n"
     ]
    }
   ],
   "source": [
    "my_list = iter([2, 4, 6, 8, 10, 12, 14, 16, 18, 20])\n",
    "for i in range(5):\n",
    "    print(next(my_list))\n",
    "    \n",
    "    "
   ]
  },
  {
   "cell_type": "markdown",
   "id": "a8f38539-8fc5-4cb7-bcf1-b089ce72633b",
   "metadata": {},
   "source": [
    "4. Python Generator functions allow you to declare a function that behaves likes an iterator, \n",
    "   allowing programmers to make an iterator in a fast, easy, and clean way."
   ]
  },
  {
   "cell_type": "markdown",
   "id": "e0b15b81-9e2e-4b72-b82e-613cf5ddec34",
   "metadata": {},
   "source": [
    "Yield keyword will turn any expression that is given with it into a generator object and return it to the caller one by one."
   ]
  },
  {
   "cell_type": "code",
   "execution_count": 7,
   "id": "63d6247a-eb3b-4275-9d07-ff58001638f0",
   "metadata": {},
   "outputs": [
    {
     "name": "stdout",
     "output_type": "stream",
     "text": [
      "0\n",
      "1\n",
      "2\n",
      "3\n",
      "4\n",
      "5\n"
     ]
    }
   ],
   "source": [
    "def test(n):\n",
    "    a = 0\n",
    "    while a<n:\n",
    "        yield a\n",
    "        a = a+1\n",
    "\n",
    "for a in test(6):\n",
    "    print(a)"
   ]
  },
  {
   "cell_type": "markdown",
   "id": "ae84797d-cbf8-4f1e-94f9-3273657dc5de",
   "metadata": {},
   "source": [
    "5."
   ]
  },
  {
   "cell_type": "code",
   "execution_count": 4,
   "id": "b34a4317-0141-4940-bb5c-625e541d0ea7",
   "metadata": {},
   "outputs": [],
   "source": [
    "def prime_generator():\n",
    "    for i in range(2,1000):\n",
    "        count = 0\n",
    "        for j in range(1,int(i/2)+1):\n",
    "            if i%j == 0:\n",
    "                count = count + 1\n",
    "        if count == 1:\n",
    "            yield i "
   ]
  },
  {
   "cell_type": "code",
   "execution_count": 5,
   "id": "c7182c99-943c-4c43-a962-393b2db1ac48",
   "metadata": {},
   "outputs": [
    {
     "name": "stdout",
     "output_type": "stream",
     "text": [
      "2\n",
      "3\n",
      "5\n",
      "7\n",
      "11\n",
      "13\n",
      "17\n",
      "19\n",
      "23\n",
      "29\n",
      "31\n",
      "37\n",
      "41\n",
      "43\n",
      "47\n",
      "53\n",
      "59\n",
      "61\n",
      "67\n",
      "71\n",
      "73\n",
      "79\n",
      "83\n",
      "89\n",
      "97\n",
      "101\n",
      "103\n",
      "107\n",
      "109\n",
      "113\n",
      "127\n",
      "131\n",
      "137\n",
      "139\n",
      "149\n",
      "151\n",
      "157\n",
      "163\n",
      "167\n",
      "173\n",
      "179\n",
      "181\n",
      "191\n",
      "193\n",
      "197\n",
      "199\n",
      "211\n",
      "223\n",
      "227\n",
      "229\n",
      "233\n",
      "239\n",
      "241\n",
      "251\n",
      "257\n",
      "263\n",
      "269\n",
      "271\n",
      "277\n",
      "281\n",
      "283\n",
      "293\n",
      "307\n",
      "311\n",
      "313\n",
      "317\n",
      "331\n",
      "337\n",
      "347\n",
      "349\n",
      "353\n",
      "359\n",
      "367\n",
      "373\n",
      "379\n",
      "383\n",
      "389\n",
      "397\n",
      "401\n",
      "409\n",
      "419\n",
      "421\n",
      "431\n",
      "433\n",
      "439\n",
      "443\n",
      "449\n",
      "457\n",
      "461\n",
      "463\n",
      "467\n",
      "479\n",
      "487\n",
      "491\n",
      "499\n",
      "503\n",
      "509\n",
      "521\n",
      "523\n",
      "541\n",
      "547\n",
      "557\n",
      "563\n",
      "569\n",
      "571\n",
      "577\n",
      "587\n",
      "593\n",
      "599\n",
      "601\n",
      "607\n",
      "613\n",
      "617\n",
      "619\n",
      "631\n",
      "641\n",
      "643\n",
      "647\n",
      "653\n",
      "659\n",
      "661\n",
      "673\n",
      "677\n",
      "683\n",
      "691\n",
      "701\n",
      "709\n",
      "719\n",
      "727\n",
      "733\n",
      "739\n",
      "743\n",
      "751\n",
      "757\n",
      "761\n",
      "769\n",
      "773\n",
      "787\n",
      "797\n",
      "809\n",
      "811\n",
      "821\n",
      "823\n",
      "827\n",
      "829\n",
      "839\n",
      "853\n",
      "857\n",
      "859\n",
      "863\n",
      "877\n",
      "881\n",
      "883\n",
      "887\n",
      "907\n",
      "911\n",
      "919\n",
      "929\n",
      "937\n",
      "941\n",
      "947\n",
      "953\n",
      "967\n",
      "971\n",
      "977\n",
      "983\n",
      "991\n",
      "997\n"
     ]
    }
   ],
   "source": [
    "for i in prime_generator():\n",
    "    print(i)\n",
    "    \n"
   ]
  },
  {
   "cell_type": "code",
   "execution_count": 7,
   "id": "52c32d57-9f07-4fb5-8824-848b177b97d4",
   "metadata": {},
   "outputs": [
    {
     "name": "stdout",
     "output_type": "stream",
     "text": [
      "2\n",
      "3\n",
      "5\n",
      "7\n",
      "11\n",
      "13\n",
      "17\n",
      "19\n",
      "23\n",
      "29\n",
      "31\n",
      "37\n",
      "41\n",
      "43\n",
      "47\n",
      "53\n",
      "59\n",
      "61\n",
      "67\n",
      "71\n"
     ]
    }
   ],
   "source": [
    "l1 = iter([i for i in prime_generator()])\n",
    "for i in range(1,21):\n",
    "    x = next(l1)\n",
    "    print(x)\n",
    "    \n"
   ]
  },
  {
   "cell_type": "code",
   "execution_count": null,
   "id": "d6da6a5d-2e11-4009-8823-ba4def178305",
   "metadata": {},
   "outputs": [],
   "source": []
  },
  {
   "cell_type": "code",
   "execution_count": null,
   "id": "b91f3359-9689-41ba-831a-ebf4a4874e70",
   "metadata": {},
   "outputs": [],
   "source": []
  },
  {
   "cell_type": "code",
   "execution_count": null,
   "id": "74051c5d-435d-465e-851c-02aa994a0df2",
   "metadata": {},
   "outputs": [],
   "source": []
  }
 ],
 "metadata": {
  "kernelspec": {
   "display_name": "Python 3 (ipykernel)",
   "language": "python",
   "name": "python3"
  },
  "language_info": {
   "codemirror_mode": {
    "name": "ipython",
    "version": 3
   },
   "file_extension": ".py",
   "mimetype": "text/x-python",
   "name": "python",
   "nbconvert_exporter": "python",
   "pygments_lexer": "ipython3",
   "version": "3.10.8"
  }
 },
 "nbformat": 4,
 "nbformat_minor": 5
}
