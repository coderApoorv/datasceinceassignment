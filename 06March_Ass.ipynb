{
 "cells": [
  {
   "cell_type": "markdown",
   "id": "a81ae155-5eee-487e-9bff-69eb21698b22",
   "metadata": {},
   "source": [
    "Q1. What is Statistics?"
   ]
  },
  {
   "cell_type": "markdown",
   "id": "e67df833-90de-4ff6-80e9-c8e7e73ff6fe",
   "metadata": {},
   "source": [
    "Statistics is the science of collecting, organising and analysing data."
   ]
  },
  {
   "cell_type": "markdown",
   "id": "a5a5f4f5-c127-4aad-b1c5-d303f312815d",
   "metadata": {},
   "source": [
    "Q2. Define the different types of statistics and give an example of when each type might be used."
   ]
  },
  {
   "cell_type": "markdown",
   "id": "14059590-7671-4050-8ccc-f3bcc4351429",
   "metadata": {},
   "source": [
    "Different types of statistics are:\n",
    "\n",
    "    - Descriptive eg: Summary of a dataset(mean, median, mode)\n",
    "    - Inferential eg: Forming conclusions from sample dataset(z-test,t-test,p-value)\n",
    "    "
   ]
  },
  {
   "cell_type": "markdown",
   "id": "4c8bbadc-f05c-4709-9778-ce010bd8a444",
   "metadata": {},
   "source": [
    "Q3. What are the different types of data and how do they differ from each other? Provide an example of\n",
    "each type of data."
   ]
  },
  {
   "cell_type": "markdown",
   "id": "027f0d0c-4b6c-4a56-949e-6cbc8c9ad9e5",
   "metadata": {},
   "source": [
    "Different types of data are:\n",
    "    \n",
    "    - Quantitative : Discrete and Continuous --> Numerical data eg. No 0f bank account,  height\n",
    "    - Qualitative : Nominal and Ordinal --> Categorical data eg. Gender, Rank"
   ]
  },
  {
   "cell_type": "markdown",
   "id": "53e17329-51e1-44a6-9940-ec3379d55b0b",
   "metadata": {},
   "source": [
    "Q4. Categorise the following datasets with respect to quantitative and qualitative data types:\n",
    "\n",
    "(i) Grading in exam: A+, A, B+, B, C+, C, D, E\n",
    "\n",
    "(ii) Colour of mangoes: yellow, green, orange, red\n",
    "\n",
    "(iii) Height data of a class: [178.9, 179, 179.5, 176, 177.2, 178.3, 175.8,...]\n",
    "\n",
    "(iv) Number of mangoes exported by a farm: [500, 600, 478, 672, ...]"
   ]
  },
  {
   "cell_type": "markdown",
   "id": "18d0f29f-577e-4d61-8312-0e8f31ae3cc0",
   "metadata": {},
   "source": [
    "1 Qualitative\n",
    "\n",
    "2 Qualitative\n",
    "\n",
    "3 Quantitative\n",
    "\n",
    "4 Quantitative\n"
   ]
  },
  {
   "cell_type": "markdown",
   "id": "97db68ac-11f6-40b3-9724-bf68e70874e8",
   "metadata": {},
   "source": [
    "Q5. Explain the concept of levels of measurement and give an example of a variable for each level."
   ]
  },
  {
   "cell_type": "markdown",
   "id": "e4a8f01c-a4ab-42c6-ab27-8cdebe71cb73",
   "metadata": {},
   "source": [
    "Different types of levels or scale of measurements are:\n",
    "    \n",
    "    - Nominal Scale Data\n",
    "    - Ordinal Scale Data\n",
    "    - Interval Scale Data\n",
    "    - Ordinal Scale Data"
   ]
  },
  {
   "cell_type": "markdown",
   "id": "1ac1e647-2807-48c1-81db-eeb22945c70e",
   "metadata": {},
   "source": [
    "Q6. Why is it important to understand the level of measurement when analyzing data? Provide an\n",
    "example to illustrate your answer."
   ]
  },
  {
   "cell_type": "markdown",
   "id": "5fd286db-8977-44d7-a784-1341c0aeced1",
   "metadata": {},
   "source": [
    "Levels of measurement, also called scales of measurement, tell you how precisely variables are recorded. In scientific research, a variable is anything that can take on different values across your data set (e.g., height or test scores).\n",
    "\n",
    "There are 4 levels of measurement:\n",
    "\n",
    "Nominal: the data can only be categorized\n",
    "\n",
    "Ordinal: the data can be categorized and ranked\n",
    "\n",
    "Interval: the data can be categorized, ranked, and evenly spaced\n",
    "\n",
    "Ratio: the data can be categorized, ranked, evenly spaced, and has a natural zero.\n",
    "\n",
    "Depending on the level of measurement of the variable, what you can do to analyze your data may be limited."
   ]
  },
  {
   "cell_type": "markdown",
   "id": "40dbf0e6-7667-42a5-af6d-e8a13eab8870",
   "metadata": {},
   "source": [
    "Q7. How nominal data type is different from ordinal data type."
   ]
  },
  {
   "cell_type": "markdown",
   "id": "61d66b25-18e1-4bb9-b5bd-f9b468161706",
   "metadata": {},
   "source": [
    "Nominal data category doesnt have weightage to categorical data whereas ordinal data have weightage to categorical data."
   ]
  },
  {
   "cell_type": "markdown",
   "id": "530e323e-bce1-44aa-8d7a-e105865903af",
   "metadata": {},
   "source": [
    "Q8. Which type of plot can be used to display data in terms of range?"
   ]
  },
  {
   "cell_type": "markdown",
   "id": "f0270bbb-304c-41bc-954f-d3403cfa3c36",
   "metadata": {},
   "source": [
    "Histogram can be used to display data in terms of range."
   ]
  },
  {
   "cell_type": "markdown",
   "id": "bd3ccfaf-c75b-45b4-aeec-355d23cbee68",
   "metadata": {},
   "source": [
    "Q9. Describe the difference between descriptive and inferential statistics. Give an example of each\n",
    "type of statistics and explain how they are used."
   ]
  },
  {
   "cell_type": "markdown",
   "id": "5ad9a69f-760f-4b95-abc5-470836d13212",
   "metadata": {},
   "source": [
    "Descriptive statistics means summarising the data.  eg mean, median, mode, variance\n",
    "\n",
    "Inferential statistics means using data to form conclusion about other related data. eg z-test, t-test, p-value"
   ]
  },
  {
   "cell_type": "markdown",
   "id": "9c479ebc-414f-4ded-9715-3c109c09ad8e",
   "metadata": {},
   "source": [
    "Q10. What are some common measures of central tendency and variability used in statistics? Explain\n",
    "how each measure can be used to describe a dataset."
   ]
  },
  {
   "cell_type": "markdown",
   "id": "13ee551c-92bd-4dfe-aae4-ae171b4169e1",
   "metadata": {},
   "source": [
    "Some common measures of central tendency and variability used in statistics are:\n",
    "    \n",
    "    - Mean : Average of a dataset\n",
    "    - Median : Central element of a dataset\n",
    "    - Mode : Most frequently occuring element of a dataset\n",
    "    - Variance :  Spread of dataset\n",
    "    - standard deviation : Root of variance"
   ]
  },
  {
   "cell_type": "markdown",
   "id": "525de5e4-9ebc-439d-9cca-890a7f03fcce",
   "metadata": {},
   "source": []
  }
 ],
 "metadata": {
  "kernelspec": {
   "display_name": "Python 3 (ipykernel)",
   "language": "python",
   "name": "python3"
  },
  "language_info": {
   "codemirror_mode": {
    "name": "ipython",
    "version": 3
   },
   "file_extension": ".py",
   "mimetype": "text/x-python",
   "name": "python",
   "nbconvert_exporter": "python",
   "pygments_lexer": "ipython3",
   "version": "3.10.8"
  }
 },
 "nbformat": 4,
 "nbformat_minor": 5
}
