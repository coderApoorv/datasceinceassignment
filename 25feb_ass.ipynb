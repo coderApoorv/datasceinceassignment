{
 "cells": [
  {
   "cell_type": "code",
   "execution_count": 5,
   "id": "13456c03-5228-4535-a89e-1fd01476c53b",
   "metadata": {},
   "outputs": [],
   "source": [
    "import pandas as pd\n",
    "course_name = ['Data Science', 'Machine Learning', 'Big Data', 'Data Engineer']\n",
    "duration = [2,3,6,4]\n",
    "df = pd.DataFrame(data = {'course_name' : course_name, 'duration' : duration})"
   ]
  },
  {
   "cell_type": "markdown",
   "id": "0d7b1079-b05f-452f-9e42-cad225a85642",
   "metadata": {},
   "source": [
    "Q1. Write a code to print the data present in the second row of the dataframe, df."
   ]
  },
  {
   "cell_type": "code",
   "execution_count": 5,
   "id": "0e1e7453-771e-468c-967e-541a5108f6b5",
   "metadata": {},
   "outputs": [
    {
     "data": {
      "text/html": [
       "<div>\n",
       "<style scoped>\n",
       "    .dataframe tbody tr th:only-of-type {\n",
       "        vertical-align: middle;\n",
       "    }\n",
       "\n",
       "    .dataframe tbody tr th {\n",
       "        vertical-align: top;\n",
       "    }\n",
       "\n",
       "    .dataframe thead th {\n",
       "        text-align: right;\n",
       "    }\n",
       "</style>\n",
       "<table border=\"1\" class=\"dataframe\">\n",
       "  <thead>\n",
       "    <tr style=\"text-align: right;\">\n",
       "      <th></th>\n",
       "      <th>course_name</th>\n",
       "      <th>duration</th>\n",
       "    </tr>\n",
       "  </thead>\n",
       "  <tbody>\n",
       "    <tr>\n",
       "      <th>1</th>\n",
       "      <td>Machine Learning</td>\n",
       "      <td>3</td>\n",
       "    </tr>\n",
       "  </tbody>\n",
       "</table>\n",
       "</div>"
      ],
      "text/plain": [
       "        course_name  duration\n",
       "1  Machine Learning         3"
      ]
     },
     "execution_count": 5,
     "metadata": {},
     "output_type": "execute_result"
    }
   ],
   "source": [
    "df.iloc[1:2]"
   ]
  },
  {
   "cell_type": "markdown",
   "id": "2f129dde-431a-496f-b570-9abf08649594",
   "metadata": {},
   "source": [
    "Q2. What is the difference between the functions loc and iloc in pandas.DataFrame?"
   ]
  },
  {
   "cell_type": "markdown",
   "id": "21b92a5e-bb80-4826-9062-2ee6181366f7",
   "metadata": {},
   "source": [
    "The function . loc is typically used for label indexing and can access multiple columns, while . iloc is used for integer indexing."
   ]
  },
  {
   "cell_type": "raw",
   "id": "9fdb8b23-19e1-4e99-a79d-db7afd592f01",
   "metadata": {},
   "source": [
    "Q3. Reindex the given dataframe using a variable, reindex = [3,0,1,2] and store it in the variable, new_df\n",
    "then find the output for both new_df.loc[2] and new_df.iloc[2].\n",
    "Did you observe any difference in both the outputs? If so then explain it."
   ]
  },
  {
   "cell_type": "code",
   "execution_count": 9,
   "id": "d55568a8-7aef-4a08-947a-397b2cbd04b2",
   "metadata": {},
   "outputs": [
    {
     "data": {
      "text/plain": [
       "(course_name    Big Data\n",
       " duration              6\n",
       " Name: 2, dtype: object,\n",
       " course_name    Machine Learning\n",
       " duration                      3\n",
       " Name: 1, dtype: object)"
      ]
     },
     "execution_count": 9,
     "metadata": {},
     "output_type": "execute_result"
    }
   ],
   "source": [
    "reindex = [3,0,1,2]\n",
    "new_df = df.reindex(reindex)\n",
    "new_df.loc[2], new_df.iloc[2]"
   ]
  },
  {
   "cell_type": "code",
   "execution_count": 10,
   "id": "b755d73f-0647-428d-9872-f9ae857137e6",
   "metadata": {},
   "outputs": [],
   "source": [
    "import pandas as pd\n",
    "import numpy as np\n",
    "columns = ['column_1', 'column_2', 'column_3', 'column_4', 'column_5', 'column_6']\n",
    "indices = [1,2,3,4,5,6]\n",
    "#Creating a dataframe:\n",
    "df1 = pd.DataFrame(np.random.rand(6,6), columns = columns, index = indices)"
   ]
  },
  {
   "cell_type": "markdown",
   "id": "42dd6586-3201-4d6e-a6d7-c4ef3beb4cc3",
   "metadata": {},
   "source": [
    "Q4. Write a code to find the following statistical measurements for the above dataframe df1:\n",
    "(i) mean of each and every column present in the dataframe.\n",
    "(ii) standard deviation of column, ‘column_2’"
   ]
  },
  {
   "cell_type": "code",
   "execution_count": 12,
   "id": "bacb08a2-2a27-4b72-beb5-579bf34316cd",
   "metadata": {},
   "outputs": [
    {
     "data": {
      "text/plain": [
       "column_1    0.390742\n",
       "column_2    0.370537\n",
       "column_3    0.713832\n",
       "column_4    0.365965\n",
       "column_5    0.384476\n",
       "column_6    0.457446\n",
       "dtype: float64"
      ]
     },
     "execution_count": 12,
     "metadata": {},
     "output_type": "execute_result"
    }
   ],
   "source": [
    "def mean_value(x):\n",
    "    return x.mean()\n",
    "df1.apply(mean_value)"
   ]
  },
  {
   "cell_type": "code",
   "execution_count": 13,
   "id": "fe14a367-6ffb-4793-b84e-0673cdeb260c",
   "metadata": {},
   "outputs": [
    {
     "data": {
      "text/plain": [
       "0.23193810169155046"
      ]
     },
     "execution_count": 13,
     "metadata": {},
     "output_type": "execute_result"
    }
   ],
   "source": [
    "df1['column_2'].std()"
   ]
  },
  {
   "cell_type": "markdown",
   "id": "3fe5f91e-61c5-4c4d-84f3-93e5f8403fe0",
   "metadata": {},
   "source": [
    "Q5. Replace the data present in the second row of column, ‘column_2’ by a string variable then find the\n",
    "mean of column, column_2.\n",
    "If you are getting errors in executing it then explain why.\n",
    "[Hint: To replace the data use df1.loc[] and equate this to string data of your choice.]"
   ]
  },
  {
   "cell_type": "code",
   "execution_count": 19,
   "id": "6f549704-465b-4293-bc6e-0e7aefa3ae9a",
   "metadata": {},
   "outputs": [
    {
     "data": {
      "text/plain": [
       "1    0.277949\n",
       "2    0.256986\n",
       "3    0.289884\n",
       "4    0.090409\n",
       "5    0.684291\n",
       "6    0.623702\n",
       "Name: column_2, dtype: float64"
      ]
     },
     "execution_count": 19,
     "metadata": {},
     "output_type": "execute_result"
    }
   ],
   "source": [
    "df1['column_2']"
   ]
  },
  {
   "cell_type": "code",
   "execution_count": 31,
   "id": "8de625f9-7b1d-4e84-a11a-c684e4d28ea5",
   "metadata": {},
   "outputs": [],
   "source": [
    "df1['column_2'][2] = 'Apoorv'"
   ]
  },
  {
   "cell_type": "markdown",
   "id": "da227824-9c59-46af-8014-f677904d5c1e",
   "metadata": {},
   "source": [
    "Getting error as mean of string variable cannot be calculated"
   ]
  },
  {
   "cell_type": "markdown",
   "id": "5831d57c-af81-459a-ac4d-6f2c2cd39ab4",
   "metadata": {},
   "source": [
    "Q6. What do you understand about the windows function in pandas and list the types of windows\n",
    "functions?"
   ]
  },
  {
   "cell_type": "markdown",
   "id": "4dcf5339-20ed-49ba-ad19-309878a131fb",
   "metadata": {},
   "source": [
    "The Window functions in Pandas are used to perform some sort of calculations across a set of rows that are interrelated with the current row. The Windows functions help us to perform aggregated calculations across various partitions or cross-sections of the data.\n",
    "Types of window functions are:\n",
    "Aggregate\n",
    "Group by\n",
    "Rolling\n",
    "Expanding\n",
    "Ranking\n",
    "Row number\n",
    "reset_index()\n",
    "cumcount()\n",
    "Rank\n",
    "default_rank\n",
    "min_rank\n",
    "NA_bottom\n",
    "descending\n",
    "Dense rank\n",
    "Percent rank\n",
    "N-Tile / qcut()\n",
    "Value\n",
    "Lag / Lead\n",
    "First / Last / nth value"
   ]
  },
  {
   "cell_type": "markdown",
   "id": "c251e57b-a3f1-4adc-adb7-15b391efe1be",
   "metadata": {},
   "source": [
    "Q7. Write a code to print only the current month and year at the time of answering this question.\n",
    "[Hint: Use pandas.datetime function]"
   ]
  },
  {
   "cell_type": "code",
   "execution_count": 45,
   "id": "c2a0f350-bf13-43e4-a33e-cb8bd4fed106",
   "metadata": {},
   "outputs": [
    {
     "name": "stdout",
     "output_type": "stream",
     "text": [
      "0    6\n",
      "Name: Date, dtype: int64\n",
      "0    2023\n",
      "Name: Date, dtype: int64\n"
     ]
    }
   ],
   "source": [
    "df = pd.to_datetime('2023-06-19')\n",
    "d = pd.DataFrame({'Date':[df]})\n",
    "print(d['Date'].dt.month)\n",
    "print(d['Date'].dt.year)"
   ]
  },
  {
   "cell_type": "markdown",
   "id": "28253302-25b1-4e4f-9331-cf182e084463",
   "metadata": {},
   "source": [
    "Q8. Write a Python program that takes in two dates as input (in the format YYYY-MM-DD) and\n",
    "calculates the difference between them in days, hours, and minutes using Pandas time delta. The\n",
    "program should prompt the user to enter the dates and display the result."
   ]
  },
  {
   "cell_type": "code",
   "execution_count": 52,
   "id": "184d77fc-b945-433c-ab54-f3807a2c05f7",
   "metadata": {},
   "outputs": [
    {
     "name": "stdin",
     "output_type": "stream",
     "text": [
      "Enter a date in YYYY-MM-DD format 1111-11-11\n"
     ]
    },
    {
     "data": {
      "text/plain": [
       "datetime.date(1111, 11, 11)"
      ]
     },
     "execution_count": 52,
     "metadata": {},
     "output_type": "execute_result"
    }
   ],
   "source": [
    "from datetime import date\n",
    "date_entry1 = input('Enter a date in YYYY-MM-DD format')\n",
    "year, month, day = map(int ,date_entry1.split('-'))\n",
    "date1 = date(year, month, day)\n",
    "date1"
   ]
  },
  {
   "cell_type": "markdown",
   "id": "710034e5-235f-44e6-8bbb-7b16c6fff40d",
   "metadata": {},
   "source": [
    "Q9. Write a Python program that reads a CSV file containing categorical data and converts a specified\n",
    "column to a categorical data type. The program should prompt the user to enter the file path, column\n",
    "name, and category order, and then display the sorted data."
   ]
  },
  {
   "cell_type": "code",
   "execution_count": null,
   "id": "c89e4abc-af6a-4a4d-a882-a0c80e331178",
   "metadata": {},
   "outputs": [],
   "source": [
    "text = input('Enter file path')\n",
    "column = input('Enter column name')\n",
    "order = input('Enter category order')\n",
    "df.read_csv(text)\n",
    "df = pd.DataFrame(df, columns = column)"
   ]
  },
  {
   "cell_type": "markdown",
   "id": "5b88cb0a-3874-491e-8d4f-83b773a8b39b",
   "metadata": {},
   "source": [
    "Q10. Write a Python program that reads a CSV file containing sales data for different products and\n",
    "visualizes the data using a stacked bar chart to show the sales of each product category over time. The\n",
    "program should prompt the user to enter the file path and display the chart."
   ]
  },
  {
   "cell_type": "code",
   "execution_count": null,
   "id": "ae224adb-279c-4757-8e82-9a40d817969b",
   "metadata": {},
   "outputs": [],
   "source": [
    "text = input('Enter File path')\n",
    "df = pd.read_csv(text)\n",
    "df = pd.DataFrame(df)\n",
    "df.plot.bar(x = 'Product',y='Sales')\n"
   ]
  },
  {
   "cell_type": "raw",
   "id": "e30fb1ba-ceee-4e64-995f-f994fd7fa571",
   "metadata": {},
   "source": [
    "Q11. You are given a CSV file containing student data that includes the student ID and their test score. Write\n",
    "a Python program that reads the CSV file, calculates the mean, median, and mode of the test scores, and\n",
    "displays the results in a table.\n",
    "The program should do the followingM\n",
    "I Prompt the user to enter the file path of the CSV file containing the student dataR\n",
    "I Read the CSV file into a Pandas DataFrameR\n",
    "I Calculate the mean, median, and mode of the test scores using Pandas toolsR\n",
    "I Display the mean, median, and mode in a table.\n",
    "Assume the CSV file contains the following columnsM\n",
    "I Student ID: The ID of the studentR\n",
    "I Test Score: The score of the student's test.\n",
    "Example usage of the program:\n",
    "Enter the file path of the CSV file containing the student data: student_data.csv\n",
    "+-----------+--------+\n",
    "| Statistic | Value |\n",
    "+-----------+--------+\n",
    "| Mean | 79.6 |\n",
    "| Median | 82 |\n",
    "| Mode | 85, 90 |\n",
    "+-----------+--------+\n",
    "Assume that the CSV file student_data.csv contains the following data:\n",
    "Student ID,Test Score\n",
    "1,85\n",
    "2,90\n",
    "3,80\n",
    "4,75\n",
    "5,85\n",
    "6,82\n",
    "7,78\n",
    "8,85\n",
    "9,90\n",
    "10,85\n",
    "The program should calculate the mean, median, and mode of the test scores and display the results\n",
    "in a table."
   ]
  },
  {
   "cell_type": "code",
   "execution_count": 44,
   "id": "e57c4b65-bb86-451c-83ea-d1c1a27a56fe",
   "metadata": {},
   "outputs": [
    {
     "name": "stdin",
     "output_type": "stream",
     "text": [
      "Enter file path student_data.csv\n"
     ]
    },
    {
     "data": {
      "text/html": [
       "<div>\n",
       "<style scoped>\n",
       "    .dataframe tbody tr th:only-of-type {\n",
       "        vertical-align: middle;\n",
       "    }\n",
       "\n",
       "    .dataframe tbody tr th {\n",
       "        vertical-align: top;\n",
       "    }\n",
       "\n",
       "    .dataframe thead th {\n",
       "        text-align: right;\n",
       "    }\n",
       "</style>\n",
       "<table border=\"1\" class=\"dataframe\">\n",
       "  <thead>\n",
       "    <tr style=\"text-align: right;\">\n",
       "      <th></th>\n",
       "      <th>Value</th>\n",
       "    </tr>\n",
       "  </thead>\n",
       "  <tbody>\n",
       "    <tr>\n",
       "      <th>mean</th>\n",
       "      <td>83.5</td>\n",
       "    </tr>\n",
       "    <tr>\n",
       "      <th>median</th>\n",
       "      <td>85.0</td>\n",
       "    </tr>\n",
       "    <tr>\n",
       "      <th>mode</th>\n",
       "      <td>NaN</td>\n",
       "    </tr>\n",
       "  </tbody>\n",
       "</table>\n",
       "</div>"
      ],
      "text/plain": [
       "        Value\n",
       "mean     83.5\n",
       "median   85.0\n",
       "mode      NaN"
      ]
     },
     "execution_count": 44,
     "metadata": {},
     "output_type": "execute_result"
    }
   ],
   "source": [
    "text = input('Enter file path')\n",
    "df = pd.read_csv(text)\n",
    "df = pd.DataFrame(df)\n",
    "median = df['Test Score'].median()\n",
    "mean = df['Test Score'].mean()\n",
    "mode = df['Test Score'].mode()\n",
    "i = ['Value']\n",
    "df1 = pd.DataFrame({'mean':mean,'median':median,'mode':mode}, index = i).T\n",
    "df1"
   ]
  },
  {
   "cell_type": "code",
   "execution_count": null,
   "id": "e5c946aa-8e5a-4ddf-9455-a5fd5ae47102",
   "metadata": {},
   "outputs": [],
   "source": []
  },
  {
   "cell_type": "code",
   "execution_count": null,
   "id": "d7f81b74-5912-4762-84e6-00143534755b",
   "metadata": {},
   "outputs": [],
   "source": []
  }
 ],
 "metadata": {
  "kernelspec": {
   "display_name": "Python 3 (ipykernel)",
   "language": "python",
   "name": "python3"
  },
  "language_info": {
   "codemirror_mode": {
    "name": "ipython",
    "version": 3
   },
   "file_extension": ".py",
   "mimetype": "text/x-python",
   "name": "python",
   "nbconvert_exporter": "python",
   "pygments_lexer": "ipython3",
   "version": "3.10.8"
  }
 },
 "nbformat": 4,
 "nbformat_minor": 5
}
