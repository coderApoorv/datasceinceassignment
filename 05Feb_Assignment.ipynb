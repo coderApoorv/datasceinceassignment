{
 "cells": [
  {
   "cell_type": "markdown",
   "id": "4131b863-99bb-41d4-821f-e91279cdf48a",
   "metadata": {},
   "source": [
    "1. Class is defined as a blueprint of the object, which provides a basic structure to similar objects. \n",
    "   Objects are defined as real things or real world objects.\n",
    "   eg: blueprint of a bike is class ie it has some attributes like two tyres, break, clutch etc whereas an actual bike is the object."
   ]
  },
  {
   "cell_type": "markdown",
   "id": "0dc0dbca-c016-456f-a2a7-b52875b1585b",
   "metadata": {},
   "source": [
    "2. Four pilllars of OOPs are \n",
    "   1. Inheritance\n",
    "   2. Encapsulation\n",
    "   3. Polymorphism\n",
    "   4. Abstraction"
   ]
  },
  {
   "cell_type": "markdown",
   "id": "7bd7f9cc-17d9-4ef2-bbaa-ed0260717be9",
   "metadata": {},
   "source": [
    "3. __init__() function is a constructor which assigns value to the class object by itself."
   ]
  },
  {
   "cell_type": "code",
   "execution_count": 3,
   "id": "69f0be71-b3d6-4f4e-a3d1-bc02a84e5534",
   "metadata": {},
   "outputs": [],
   "source": [
    "class pwskills1:\n",
    "    def __init__(self,phone_number, email_id, student_id):\n",
    "        self.phone_number = phone_number\n",
    "        self.email_id = email_id\n",
    "        self.student_id = student_id"
   ]
  },
  {
   "cell_type": "code",
   "execution_count": 5,
   "id": "9a651820-f553-4744-af68-946a62ec881f",
   "metadata": {},
   "outputs": [],
   "source": [
    "rohan = pwskills1(8840074509, \"apoorvj6@gmail.com\", 101)"
   ]
  },
  {
   "cell_type": "code",
   "execution_count": 10,
   "id": "8869a4de-eb9f-4b2e-8678-6194e87df7f0",
   "metadata": {},
   "outputs": [
    {
     "data": {
      "text/plain": [
       "8840074509"
      ]
     },
     "execution_count": 10,
     "metadata": {},
     "output_type": "execute_result"
    }
   ],
   "source": [
    "rohan.phone_number"
   ]
  },
  {
   "cell_type": "code",
   "execution_count": 8,
   "id": "38d80867-d1dd-43cb-b8a2-1f660df76361",
   "metadata": {},
   "outputs": [
    {
     "data": {
      "text/plain": [
       "'apoorvj6@gmail.com'"
      ]
     },
     "execution_count": 8,
     "metadata": {},
     "output_type": "execute_result"
    }
   ],
   "source": [
    "rohan.email_id"
   ]
  },
  {
   "cell_type": "code",
   "execution_count": 9,
   "id": "973bbf6d-a751-4b52-bb78-29e3a2f4eb65",
   "metadata": {},
   "outputs": [
    {
     "data": {
      "text/plain": [
       "101"
      ]
     },
     "execution_count": 9,
     "metadata": {},
     "output_type": "execute_result"
    }
   ],
   "source": [
    "rohan.student_id"
   ]
  },
  {
   "cell_type": "markdown",
   "id": "663e1a7c-5fff-4286-93a2-2cc0c98ba96b",
   "metadata": {},
   "source": [
    "4. Self is used to bind the method so the other method of the class knows which variable it is having."
   ]
  },
  {
   "cell_type": "markdown",
   "id": "3e37a6b5-9031-4fb0-b154-00985e07fbc8",
   "metadata": {},
   "source": [
    "5. Inheritance can be defined as the process of inherting methods and variables of parent class by child class.\n",
    "   Inheritance is of two types:\n",
    "   1. Mutlilevel inheritance\n",
    "   2. Multiple inheritance"
   ]
  },
  {
   "cell_type": "markdown",
   "id": "4ebbd7e8-5153-48a2-9817-8336cc8c1d85",
   "metadata": {},
   "source": [
    "Multilevel eg"
   ]
  },
  {
   "cell_type": "code",
   "execution_count": 1,
   "id": "bd4030c9-700b-4448-a7b2-ff2fe67ce189",
   "metadata": {},
   "outputs": [
    {
     "name": "stdout",
     "output_type": "stream",
     "text": [
      "This is class 2\n",
      "This is class 1\n"
     ]
    }
   ],
   "source": [
    "class class1:\n",
    "    def test_class1(self):\n",
    "        print(\"This is class 1\")\n",
    "class class2(class1):\n",
    "    def test_class2(self):\n",
    "        print(\"This is class 2\")\n",
    "class class3(class2):\n",
    "    def test_class3(self):\n",
    "        print(\"This is class 3\")\n",
    "obj_class3 = class3()\n",
    "obj_class3.test_class2()\n",
    "obj_class3.test_class1()"
   ]
  },
  {
   "cell_type": "markdown",
   "id": "754b5abf-241a-43fe-ad0b-fe47c0979a1e",
   "metadata": {},
   "source": [
    "Multiple eg"
   ]
  },
  {
   "cell_type": "code",
   "execution_count": 2,
   "id": "d7153d4f-5f80-466b-9446-bef0934e5ce1",
   "metadata": {},
   "outputs": [
    {
     "name": "stdout",
     "output_type": "stream",
     "text": [
      "This is class 2\n",
      "This is class 1\n"
     ]
    }
   ],
   "source": [
    "class class1:\n",
    "    def test_class1(self):\n",
    "        print(\"This is class 1\")\n",
    "class class2:\n",
    "    def test_class2(self):\n",
    "        print(\"This is class 2\")\n",
    "class class3(class1,class2):\n",
    "    def test_class3(self):\n",
    "        print(\"This is class 3\") \n",
    "obj_class3 = class3()\n",
    "obj_class3.test_class2()\n",
    "obj_class3.test_class1()"
   ]
  },
  {
   "cell_type": "code",
   "execution_count": null,
   "id": "d541f55d-4b02-4f21-98a4-886144dc1c8d",
   "metadata": {},
   "outputs": [],
   "source": []
  }
 ],
 "metadata": {
  "kernelspec": {
   "display_name": "Python 3 (ipykernel)",
   "language": "python",
   "name": "python3"
  },
  "language_info": {
   "codemirror_mode": {
    "name": "ipython",
    "version": 3
   },
   "file_extension": ".py",
   "mimetype": "text/x-python",
   "name": "python",
   "nbconvert_exporter": "python",
   "pygments_lexer": "ipython3",
   "version": "3.10.8"
  }
 },
 "nbformat": 4,
 "nbformat_minor": 5
}
