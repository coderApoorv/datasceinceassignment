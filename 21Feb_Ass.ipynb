{
 "cells": [
  {
   "cell_type": "markdown",
   "id": "573f4d3d-225f-4aaf-b827-dc699fce617b",
   "metadata": {},
   "source": [
    "Q1. What is Web Scraping? Why is it Used? Give three areas where Web Scraping is used to get data."
   ]
  },
  {
   "cell_type": "markdown",
   "id": "67f01446-1bc2-4120-a003-57acfafc7319",
   "metadata": {},
   "source": [
    "Web scraping refers to the automated extraction of data from websites. It involves writing code or using specialized tools to access and gather information from web pages, typically in an organized and structured format. Web scraping allows users to retrieve data from multiple websites quickly and efficiently, saving time and effort compared to manual data collection.\n",
    "\n",
    "-Data Mining\n",
    "-Research and Academic Purposes\n",
    "-Business Intelligence"
   ]
  },
  {
   "cell_type": "markdown",
   "id": "66cad731-1c7c-426e-967e-ab4182f4b29c",
   "metadata": {},
   "source": [
    "Q2. What are the different methods used for Web Scraping?"
   ]
  },
  {
   "cell_type": "markdown",
   "id": "283a5852-3476-4f3e-bcf7-5b3ecdfbce17",
   "metadata": {},
   "source": [
    "Human copy-and-paste.\n",
    "Text pattern matching.\n",
    "HTTP programming.\n",
    "HTML parsing.\n",
    "DOM parsing.\n",
    "Vertical aggregation.\n",
    "Semantic annotation recognizing.\n",
    "Computer vision web-page analysis."
   ]
  },
  {
   "cell_type": "markdown",
   "id": "e71b5980-0306-4f7b-a324-f3d96107258e",
   "metadata": {},
   "source": [
    "Q3. What is Beautiful Soup? Why is it used?"
   ]
  },
  {
   "cell_type": "markdown",
   "id": "5083b236-e56b-4b42-8eaf-4c83091d7fb5",
   "metadata": {},
   "source": [
    "Beautiful Soup is a popular Python library used for web scraping and parsing HTML or XML documents. It provides a convenient and powerful way to extract data from web pages by navigating the HTML tree structure."
   ]
  },
  {
   "cell_type": "markdown",
   "id": "e08d7e15-2cfd-456d-8b9a-eb4ae89ce28c",
   "metadata": {},
   "source": [
    "Q4. Why is flask used in this Web Scraping project?"
   ]
  },
  {
   "cell_type": "markdown",
   "id": "f32d54bf-bd8e-4320-8ed4-7e795760488f",
   "metadata": {},
   "source": [
    "Flask provides a convenient way to handle HTTP requests and define routes for different URLs. In a web scraping project, you can use Flask to create endpoints that receive requests and trigger the scraping process. For example, you can define a route to accept a URL as input and return the scraped data as a response."
   ]
  },
  {
   "cell_type": "markdown",
   "id": "2461d3d1-42e8-4021-99bd-b1c75bcd5dc1",
   "metadata": {},
   "source": [
    "Q5. Write the names of AWS services used in this project. Also, explain the use of each service."
   ]
  },
  {
   "cell_type": "markdown",
   "id": "29987969-4e14-409e-9a2c-89c741f3bfe6",
   "metadata": {},
   "source": [
    "Elastic Beanstalk\n",
    "\n",
    "Code Pipeline"
   ]
  },
  {
   "cell_type": "code",
   "execution_count": null,
   "id": "535c17e0-2424-456d-b59e-636978ff3faa",
   "metadata": {},
   "outputs": [],
   "source": []
  }
 ],
 "metadata": {
  "kernelspec": {
   "display_name": "Python 3 (ipykernel)",
   "language": "python",
   "name": "python3"
  },
  "language_info": {
   "codemirror_mode": {
    "name": "ipython",
    "version": 3
   },
   "file_extension": ".py",
   "mimetype": "text/x-python",
   "name": "python",
   "nbconvert_exporter": "python",
   "pygments_lexer": "ipython3",
   "version": "3.10.8"
  }
 },
 "nbformat": 4,
 "nbformat_minor": 5
}
