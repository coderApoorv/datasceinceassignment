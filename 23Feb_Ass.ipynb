{
 "cells": [
  {
   "cell_type": "code",
   "execution_count": 2,
   "id": "92b86897-bc63-4bcb-8699-e5e62d140c0d",
   "metadata": {},
   "outputs": [],
   "source": [
    "import pandas as pd"
   ]
  },
  {
   "cell_type": "markdown",
   "id": "bcb91032-c8ea-4028-be0f-e86880ab514c",
   "metadata": {},
   "source": [
    "Q1. Create a Pandas Series that contains the following data: 4, 8, 15, 16, 23, and 42. Then, print the series."
   ]
  },
  {
   "cell_type": "code",
   "execution_count": 8,
   "id": "622abbb6-8e82-4569-8817-9358e6d73962",
   "metadata": {},
   "outputs": [
    {
     "name": "stdout",
     "output_type": "stream",
     "text": [
      "0     4\n",
      "1     8\n",
      "2    15\n",
      "3    16\n",
      "4    23\n",
      "5    42\n",
      "dtype: int64\n"
     ]
    },
    {
     "data": {
      "text/plain": [
       "pandas.core.series.Series"
      ]
     },
     "execution_count": 8,
     "metadata": {},
     "output_type": "execute_result"
    }
   ],
   "source": [
    "p = pd.Series([4,8,15,16,23,42])\n",
    "print(p)\n",
    "type(p)"
   ]
  },
  {
   "cell_type": "markdown",
   "id": "4b81c741-19ae-400c-9e3d-82197fe7d94c",
   "metadata": {},
   "source": [
    "Q2. Create a variable of list type containing 10 elements in it, and apply pandas.Series function on the\n",
    "variable print it."
   ]
  },
  {
   "cell_type": "code",
   "execution_count": 10,
   "id": "d6bb5e5b-3af2-4a1e-8bca-e5c27d4177cc",
   "metadata": {},
   "outputs": [
    {
     "name": "stdout",
     "output_type": "stream",
     "text": [
      "0    1\n",
      "1    2\n",
      "2    3\n",
      "3    4\n",
      "4    5\n",
      "5    6\n",
      "6    7\n",
      "7    8\n",
      "8    9\n",
      "9    0\n",
      "dtype: int64\n"
     ]
    }
   ],
   "source": [
    "l = [1,2,3,4,5,6,7,8,9,0]\n",
    "print(pd.Series(l))"
   ]
  },
  {
   "cell_type": "markdown",
   "id": "ff306061-ec34-4fa0-87f2-d324085d71f1",
   "metadata": {},
   "source": [
    "Q3. Create a Pandas DataFrame that contains the following data:\n",
    "Name\n",
    "Alice\n",
    "Bob\n",
    "Claire\n",
    "\n",
    "Age\n",
    "25\n",
    "30\n",
    "27\n",
    "\n",
    "Gender\n",
    "Female\n",
    "Male\n",
    "Female\n",
    "Then, print the DataFrame."
   ]
  },
  {
   "cell_type": "code",
   "execution_count": 11,
   "id": "c12982f9-b236-45b4-ac21-f281a15834e0",
   "metadata": {},
   "outputs": [
    {
     "data": {
      "text/html": [
       "<div>\n",
       "<style scoped>\n",
       "    .dataframe tbody tr th:only-of-type {\n",
       "        vertical-align: middle;\n",
       "    }\n",
       "\n",
       "    .dataframe tbody tr th {\n",
       "        vertical-align: top;\n",
       "    }\n",
       "\n",
       "    .dataframe thead th {\n",
       "        text-align: right;\n",
       "    }\n",
       "</style>\n",
       "<table border=\"1\" class=\"dataframe\">\n",
       "  <thead>\n",
       "    <tr style=\"text-align: right;\">\n",
       "      <th></th>\n",
       "      <th>Name</th>\n",
       "      <th>Age</th>\n",
       "      <th>Gender</th>\n",
       "    </tr>\n",
       "  </thead>\n",
       "  <tbody>\n",
       "    <tr>\n",
       "      <th>0</th>\n",
       "      <td>Alice</td>\n",
       "      <td>25</td>\n",
       "      <td>Female</td>\n",
       "    </tr>\n",
       "    <tr>\n",
       "      <th>1</th>\n",
       "      <td>Bob</td>\n",
       "      <td>30</td>\n",
       "      <td>Male</td>\n",
       "    </tr>\n",
       "    <tr>\n",
       "      <th>2</th>\n",
       "      <td>Claire</td>\n",
       "      <td>27</td>\n",
       "      <td>Female</td>\n",
       "    </tr>\n",
       "  </tbody>\n",
       "</table>\n",
       "</div>"
      ],
      "text/plain": [
       "     Name  Age  Gender\n",
       "0   Alice   25  Female\n",
       "1     Bob   30    Male\n",
       "2  Claire   27  Female"
      ]
     },
     "execution_count": 11,
     "metadata": {},
     "output_type": "execute_result"
    }
   ],
   "source": [
    "data = {\n",
    "'Name':['Alice','Bob','Claire'],\n",
    "'Age':[25,30,27],\n",
    "'Gender':['Female','Male','Female']    \n",
    "}\n",
    "pd.DataFrame(data)"
   ]
  },
  {
   "cell_type": "markdown",
   "id": "d3b11400-db71-486e-bf6e-951bd3b82b6f",
   "metadata": {},
   "source": [
    "Q4. What is ‘DataFrame’ in pandas and how is it different from pandas.series? Explain with an example."
   ]
  },
  {
   "cell_type": "markdown",
   "id": "73649dd7-56a2-47b6-8ebf-a52fd5f6069d",
   "metadata": {},
   "source": [
    "A Pandas DataFrame is a 2 dimensional data structure, like a 2 dimensional array, or a table with rows and columns.\n",
    "The Pandas Series data structure is a one-dimensional labelled array. It is the primary building block for a DataFrame, making up its rows and columns."
   ]
  },
  {
   "cell_type": "markdown",
   "id": "1f282369-ef7a-49a7-a590-a07ab88abcde",
   "metadata": {},
   "source": [
    "Q5. What are some common functions you can use to manipulate data in a Pandas DataFrame? Can\n",
    "you give an example of when you might use one of these functions?"
   ]
  },
  {
   "cell_type": "markdown",
   "id": "8e5bc4c3-9e21-416e-aca9-0942df7ec489",
   "metadata": {},
   "source": [
    "Functions to manipulate data in Pandas DataFrame are : \n",
    "    Drop, merge, fillna, dropna, copy, replace.\n",
    "dropna function is used to drop rows whose value is na.    "
   ]
  },
  {
   "cell_type": "markdown",
   "id": "54920ac1-9537-480a-897b-f7431fb7031f",
   "metadata": {},
   "source": [
    "Q6. Which of the following is mutable in nature Series, DataFrame, Panel?"
   ]
  },
  {
   "cell_type": "markdown",
   "id": "de320173-c310-4eb5-8094-440f10bc22d2",
   "metadata": {},
   "source": [
    "DataFrame and Panel are mutable in nature."
   ]
  },
  {
   "cell_type": "markdown",
   "id": "3c4f8f9c-728d-4d6c-8cef-3e580afdbf92",
   "metadata": {},
   "source": [
    "Q7. Create a DataFrame using multiple Series. Explain with an example."
   ]
  },
  {
   "cell_type": "code",
   "execution_count": null,
   "id": "ddeecd34-7464-4eb4-8d87-e4019c02b0b4",
   "metadata": {},
   "outputs": [],
   "source": [
    "p = pd.Series([1,2,3,4])\n",
    "q = pd.Series([5,6,7,8])\n"
   ]
  }
 ],
 "metadata": {
  "kernelspec": {
   "display_name": "Python 3 (ipykernel)",
   "language": "python",
   "name": "python3"
  },
  "language_info": {
   "codemirror_mode": {
    "name": "ipython",
    "version": 3
   },
   "file_extension": ".py",
   "mimetype": "text/x-python",
   "name": "python",
   "nbconvert_exporter": "python",
   "pygments_lexer": "ipython3",
   "version": "3.10.8"
  }
 },
 "nbformat": 4,
 "nbformat_minor": 5
}
