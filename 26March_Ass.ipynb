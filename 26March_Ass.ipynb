{
 "cells": [
  {
   "cell_type": "markdown",
   "id": "80994157-bdf1-4788-a03d-ab0c390d5b32",
   "metadata": {},
   "source": [
    "Q1. Explain the difference between simple linear regression and multiple linear regression. Provide an\n",
    "example of each."
   ]
  },
  {
   "cell_type": "markdown",
   "id": "3f12db46-0b7b-4d90-9231-ae00c048511c",
   "metadata": {},
   "source": [
    "Simple linear regression has only one x and one y variable. Multiple linear regression has one y and two or more x variables. For instance, when we predict rent based on square feet alone that is simple linear regression."
   ]
  },
  {
   "cell_type": "markdown",
   "id": "6a7cbe55-fbb1-4760-8c91-8f0b0f52ca8b",
   "metadata": {},
   "source": [
    "Q2. Discuss the assumptions of linear regression. How can you check whether these assumptions hold in\n",
    "a given dataset?"
   ]
  },
  {
   "cell_type": "markdown",
   "id": "372d74ae-538d-49f1-93e2-f72e969f4dab",
   "metadata": {},
   "source": [
    "1. Linear relationship: There exists a linear relationship between the independent variable, x, and the dependent variable, y.\n",
    "\n",
    "2. Independence: The residuals are independent. In particular, there is no correlation between consecutive residuals in time series data.\n",
    "\n",
    "3. Homoscedasticity: The residuals have constant variance at every level of x.\n",
    "\n",
    "4. Normality: The residuals of the model are normally distributed."
   ]
  },
  {
   "cell_type": "markdown",
   "id": "3b8a2350-ed89-4b5c-b159-1ebf56b036b1",
   "metadata": {},
   "source": [
    "Q3. How do you interpret the slope and intercept in a linear regression model? Provide an example using\n",
    "a real-world scenario."
   ]
  },
  {
   "cell_type": "markdown",
   "id": "b12ea5fa-c0d7-4959-aae2-1033a3b4a9c6",
   "metadata": {},
   "source": [
    "The slope indicates the steepness of a line and the intercept indicates the location where it intersects an axis. The slope and the intercept define the linear relationship between two variables, and can be used to estimate an average rate of change.\n",
    "\n",
    "Interpret the slope: If the speed of the club hitting the ball increases by 1 mph, then the model predicts that the length the ball travels increases by 57.66 yards. Interpret the intercept: If the ball is hit with a speed of 0 mph, then the model predicts that the length the ball travels will be 3.18 yards."
   ]
  },
  {
   "cell_type": "markdown",
   "id": "22fd280e-cfc2-431c-93c5-b9fd068189ca",
   "metadata": {},
   "source": [
    "Q4. Explain the concept of gradient descent. How is it used in machine learning?"
   ]
  },
  {
   "cell_type": "markdown",
   "id": "8314bfc9-8a6f-4d21-8584-e128458ae67b",
   "metadata": {},
   "source": [
    "Gradient descent is an optimization algorithm which is commonly-used to train machine learning models and neural networks. Training data helps these models learn over time, and the cost function within gradient descent specifically acts as a barometer, gauging its accuracy with each iteration of parameter updates."
   ]
  },
  {
   "cell_type": "markdown",
   "id": "7dc30354-6a28-4955-95b6-6c54bba44a1d",
   "metadata": {},
   "source": [
    "Q5. Describe the multiple linear regression model. How does it differ from simple linear regression?"
   ]
  },
  {
   "cell_type": "markdown",
   "id": "2e5371f0-b519-4e1b-b88b-ed3dbef6fdb3",
   "metadata": {},
   "source": [
    "Multiple regression is a broader class of regressions that encompasses linear and nonlinear regressions with multiple explanatory variables. Whereas linear regress only has one independent variable impacting the slope of the relationship, multiple regression incorporates multiple independent variables."
   ]
  },
  {
   "cell_type": "markdown",
   "id": "8188bed9-5f17-404c-9663-2bdc377db041",
   "metadata": {},
   "source": [
    "Q6. Explain the concept of multicollinearity in multiple linear regression. How can you detect and\n",
    "address this issue?"
   ]
  },
  {
   "cell_type": "markdown",
   "id": "b4991dbb-6812-4f11-81a7-b140a4169440",
   "metadata": {},
   "source": [
    "Multicollinearity exists whenever an independent variable is highly correlated with one or more of the other independent variables in a multiple regression equation. Multicollinearity is a problem because it will make the statistical inferences less reliable.\n",
    "\n",
    "Remove some of the highly correlated independent variables.\n",
    "Linearly combine the independent variables, such as adding them together.\n",
    "Partial least squares regression uses principal component analysis to create a set of uncorrelated components to include in the model.\n",
    "LASSO and Ridge regression are advanced forms of regression analysis that can handle multicollinearity. If you know how to perform linear least squares regression, you’ll be able to handle these analyses with just a little additional study."
   ]
  },
  {
   "cell_type": "markdown",
   "id": "5f50e3da-195a-46b0-b3ea-321cff24d51b",
   "metadata": {},
   "source": [
    "Q7. Describe the polynomial regression model. How is it different from linear regression?"
   ]
  },
  {
   "cell_type": "markdown",
   "id": "bc7e6647-cbfe-436f-94a4-c7741d3f86ee",
   "metadata": {},
   "source": [
    "A polynomial regression model is a machine learning model that can capture non-linear relationships between variables by fitting a non-linear regression line, which may not be possible with simple linear regression. It is used when linear regression models may not adequately capture the complexity of the relationship."
   ]
  },
  {
   "cell_type": "markdown",
   "id": "da9e4ba6-aa27-47e4-b8ca-9d8a371ccae6",
   "metadata": {},
   "source": [
    "Q8. What are the advantages and disadvantages of polynomial regression compared to linear\n",
    "regression? In what situations would you prefer to use polynomial regression?"
   ]
  },
  {
   "cell_type": "markdown",
   "id": "40209db9-40ce-4d60-b5b6-5278d23419da",
   "metadata": {},
   "source": [
    "Polynomial provides the best approximation of the relationship between the dependent and independent variable. A Broad range of function can be fit under it. Polynomial basically fits a wide range of curvature."
   ]
  },
  {
   "cell_type": "code",
   "execution_count": null,
   "id": "ec3d34f6-5553-4fcf-8b4a-f0892bfbf33a",
   "metadata": {},
   "outputs": [],
   "source": []
  }
 ],
 "metadata": {
  "kernelspec": {
   "display_name": "Python 3 (ipykernel)",
   "language": "python",
   "name": "python3"
  },
  "language_info": {
   "codemirror_mode": {
    "name": "ipython",
    "version": 3
   },
   "file_extension": ".py",
   "mimetype": "text/x-python",
   "name": "python",
   "nbconvert_exporter": "python",
   "pygments_lexer": "ipython3",
   "version": "3.10.8"
  }
 },
 "nbformat": 4,
 "nbformat_minor": 5
}
