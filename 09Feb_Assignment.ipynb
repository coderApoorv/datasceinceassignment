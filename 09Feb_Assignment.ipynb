{
 "cells": [
  {
   "cell_type": "markdown",
   "id": "74589266-5dc2-4bc2-a38f-2d59cef7b757",
   "metadata": {},
   "source": [
    "1."
   ]
  },
  {
   "cell_type": "code",
   "execution_count": 1,
   "id": "17819d8d-ff85-489b-99d8-71e09f54f0f8",
   "metadata": {},
   "outputs": [],
   "source": [
    "class vehicle:\n",
    "    def __init__(self, name_of_vehicle, max_speed, average_of_vehicle):\n",
    "        self.name_of_vehicle = name_of_vehicle\n",
    "        self.max_speed = max_speed\n",
    "        self.average_of_vehicle = average_of_vehicle\n",
    "        "
   ]
  },
  {
   "cell_type": "markdown",
   "id": "b01ce0ad-e165-4b29-ba99-fca0dd0cd3ae",
   "metadata": {},
   "source": [
    "2."
   ]
  },
  {
   "cell_type": "code",
   "execution_count": 2,
   "id": "b873ac0d-fd0d-4ce5-9ad6-830ce4e39c77",
   "metadata": {},
   "outputs": [],
   "source": [
    "class car(vehicle):\n",
    "    def seating_capacity(self, capacity):\n",
    "        return self.name_of_vehicle, capacity"
   ]
  },
  {
   "cell_type": "code",
   "execution_count": 4,
   "id": "b0853147-60ea-4cfd-86c5-164ee1b7cc1e",
   "metadata": {},
   "outputs": [],
   "source": [
    "obj_car = car(\"WagonR\",120,15)"
   ]
  },
  {
   "cell_type": "code",
   "execution_count": 6,
   "id": "6a88252a-374c-4aab-805a-2b5e4c50ca27",
   "metadata": {},
   "outputs": [
    {
     "data": {
      "text/plain": [
       "('WagonR', 4)"
      ]
     },
     "execution_count": 6,
     "metadata": {},
     "output_type": "execute_result"
    }
   ],
   "source": [
    "obj_car.seating_capacity(4)"
   ]
  },
  {
   "cell_type": "markdown",
   "id": "2eec451b-444a-458b-aed9-294241377ff8",
   "metadata": {},
   "source": [
    "3."
   ]
  },
  {
   "cell_type": "markdown",
   "id": "22829427-504c-4c7c-a8e1-d1168d451724",
   "metadata": {},
   "source": [
    "When a child class inherit from multiple other classes which are not related to each other then the inheritance is called multiple inheritance."
   ]
  },
  {
   "cell_type": "code",
   "execution_count": 1,
   "id": "dae5b2ce-604a-46f4-9cca-e6b36dcc753e",
   "metadata": {},
   "outputs": [
    {
     "name": "stdout",
     "output_type": "stream",
     "text": [
      "This is class 2\n",
      "This is class 1\n"
     ]
    }
   ],
   "source": [
    "class class1:\n",
    "    def test_class1(self):\n",
    "        print(\"This is class 1\")\n",
    "class class2:\n",
    "    def test_class2(self):\n",
    "        print(\"This is class 2\")\n",
    "class class3(class1,class2):\n",
    "    def test_class3(self):\n",
    "        print(\"This is class 3\") \n",
    "obj_class3 = class3()\n",
    "obj_class3.test_class2()\n",
    "obj_class3.test_class1()"
   ]
  },
  {
   "cell_type": "markdown",
   "id": "c3d4fc80-1032-487e-a90f-2e929e7508c5",
   "metadata": {},
   "source": [
    "4."
   ]
  },
  {
   "cell_type": "markdown",
   "id": "6287f6c4-601a-45ef-88ec-0e5e7bf6f0a6",
   "metadata": {},
   "source": [
    "Getter and setter in python are used to ensure data encapsulation. Getter is used to get data and setter is used to set or assign data to class variable."
   ]
  },
  {
   "cell_type": "code",
   "execution_count": 2,
   "id": "2cc6e5c0-435e-4940-8449-9fe5461749d9",
   "metadata": {},
   "outputs": [
    {
     "name": "stdout",
     "output_type": "stream",
     "text": [
      "21\n",
      "21\n"
     ]
    }
   ],
   "source": [
    "class getset:\n",
    "    def __init__(self, age = 0):\n",
    "         self._age = age\n",
    "      \n",
    "    \n",
    "    def get_age(self):\n",
    "        return self._age\n",
    "      \n",
    "    \n",
    "    def set_age(self, x):\n",
    "        self._age = x\n",
    "  \n",
    "obj_getset = getset()\n",
    "  \n",
    "\n",
    "obj_getset.set_age(21)\n",
    "  \n",
    "\n",
    "print(obj_getset.get_age())\n",
    "  \n",
    "print(obj_getset._age)"
   ]
  },
  {
   "cell_type": "markdown",
   "id": "7f77a73f-7d46-4ade-93bd-ca7185eeb5f5",
   "metadata": {},
   "source": [
    "5."
   ]
  },
  {
   "cell_type": "markdown",
   "id": "b803a2ca-dc4f-4d3c-882b-aad602bc9b52",
   "metadata": {},
   "source": [
    "When a child class method overrides(or, provides it's own implementation) the parent class method of the same name, parameters and return type, it is known as method overriding."
   ]
  },
  {
   "cell_type": "code",
   "execution_count": 8,
   "id": "e49d3143-9069-4769-a0b2-19343b821f0a",
   "metadata": {},
   "outputs": [],
   "source": [
    "class Shape:\n",
    "    \n",
    "    def no_of_sides(self):\n",
    "        print(\"My sides need to be defined. I am from shape class.\")\n",
    "\n",
    "     \n",
    "    def two_dimensional(self):\n",
    "        print(\"I am a 2D object. I am from shape class\")"
   ]
  },
  {
   "cell_type": "code",
   "execution_count": 7,
   "id": "031a2285-a595-4961-953f-028290bb19d7",
   "metadata": {},
   "outputs": [],
   "source": [
    "class Square (Shape):\n",
    "    \n",
    "    def no_of_sides (self):\n",
    "        print(\"I have 4 sides. I am from Square class\")\n",
    "\n",
    "    def color(self):\n",
    "        print(\"I have teal color. I am from Square class.\")"
   ]
  },
  {
   "cell_type": "code",
   "execution_count": 9,
   "id": "fa483e3e-2677-4516-becf-c69e47435182",
   "metadata": {},
   "outputs": [
    {
     "name": "stdout",
     "output_type": "stream",
     "text": [
      "I have 4 sides. I am from Square class\n",
      "I am a 2D object. I am from shape class\n",
      "I have teal color. I am from Square class.\n"
     ]
    }
   ],
   "source": [
    "# Create an object of Square class \n",
    "sq = Square() \n",
    "# Override the no_of_sides of parent class \n",
    "sq.no_of_sides() \n",
    "# Will inherit this method from the parent class\n",
    "sq.two_dimensional() \n",
    "# It's own method color \n",
    "sq.color()"
   ]
  },
  {
   "cell_type": "code",
   "execution_count": null,
   "id": "899e4abe-1a60-4ed3-b1f7-0bea2835d858",
   "metadata": {},
   "outputs": [],
   "source": []
  }
 ],
 "metadata": {
  "kernelspec": {
   "display_name": "Python 3 (ipykernel)",
   "language": "python",
   "name": "python3"
  },
  "language_info": {
   "codemirror_mode": {
    "name": "ipython",
    "version": 3
   },
   "file_extension": ".py",
   "mimetype": "text/x-python",
   "name": "python",
   "nbconvert_exporter": "python",
   "pygments_lexer": "ipython3",
   "version": "3.10.8"
  }
 },
 "nbformat": 4,
 "nbformat_minor": 5
}
