{
 "cells": [
  {
   "cell_type": "markdown",
   "id": "c94edc6d-c0a7-4a5c-a7c1-83addf6ebabf",
   "metadata": {},
   "source": [
    "1."
   ]
  },
  {
   "cell_type": "code",
   "execution_count": 23,
   "id": "28529ced-9028-46c1-a5c9-d3234ea538f6",
   "metadata": {},
   "outputs": [],
   "source": [
    "def password_check(s):\n",
    "    a = ''\n",
    "    c,d,e,f = 0,0,0,0\n",
    "    if len(s)>=10:\n",
    "        for i in s:\n",
    "            if i.isupper():\n",
    "                c = c+1\n",
    "            elif i.islower():\n",
    "                d = d + 1\n",
    "            elif i.isnumeric():\n",
    "                e = e+1\n",
    "            else:\n",
    "                f = f + 1\n",
    "        if c>=2 and d>=2 and e>=1 and e>=3:\n",
    "             a = \"Valid Password\"\n",
    "        else:\n",
    "            a =  \"Invalid Password\"\n",
    "    else:\n",
    "        a =  \"Invalid Password\"\n",
    "    return a"
   ]
  },
  {
   "cell_type": "code",
   "execution_count": 24,
   "id": "d38daa76-24db-469f-8d74-6de9225d6fdf",
   "metadata": {},
   "outputs": [],
   "source": [
    "str = \"QAZwsx1@#$%\"    "
   ]
  },
  {
   "cell_type": "code",
   "execution_count": 18,
   "id": "8d5013d3-7226-47f8-aa21-7cba4028bec2",
   "metadata": {},
   "outputs": [
    {
     "data": {
      "text/plain": [
       "11"
      ]
     },
     "execution_count": 18,
     "metadata": {},
     "output_type": "execute_result"
    }
   ],
   "source": [
    "len(str)"
   ]
  },
  {
   "cell_type": "code",
   "execution_count": 25,
   "id": "658eaf9c-e8f8-4759-9faa-8a49c6152421",
   "metadata": {},
   "outputs": [
    {
     "data": {
      "text/plain": [
       "'Invalid Password'"
      ]
     },
     "execution_count": 25,
     "metadata": {},
     "output_type": "execute_result"
    }
   ],
   "source": [
    "password_check(str)"
   ]
  },
  {
   "cell_type": "code",
   "execution_count": null,
   "id": "24acbdba-a631-4806-b4ff-43b0d262fcdd",
   "metadata": {},
   "outputs": [],
   "source": []
  },
  {
   "cell_type": "markdown",
   "id": "76ecf746-305e-4aa7-b75f-08a37265fc3b",
   "metadata": {},
   "source": [
    "2."
   ]
  },
  {
   "cell_type": "markdown",
   "id": "46fbdadd-b0b7-4a0b-853e-9eb66a5ac0b0",
   "metadata": {},
   "source": [
    "## check if string starts with 'a'"
   ]
  },
  {
   "cell_type": "code",
   "execution_count": 3,
   "id": "a8f87e03-282d-4ac4-9cd8-bc10a7062752",
   "metadata": {},
   "outputs": [
    {
     "data": {
      "text/plain": [
       "False"
      ]
     },
     "execution_count": 3,
     "metadata": {},
     "output_type": "execute_result"
    }
   ],
   "source": [
    "s = \"Apoorv\"\n",
    "a = lambda x : x.startswith(\"a\")\n",
    "a(s)"
   ]
  },
  {
   "cell_type": "markdown",
   "id": "fc34136b-5a9c-4a6e-9c19-4a9b68f960e5",
   "metadata": {},
   "source": [
    "Check if string is numeric"
   ]
  },
  {
   "cell_type": "code",
   "execution_count": 2,
   "id": "9c83d8a4-5f6c-4fee-be29-b0ecf4b03456",
   "metadata": {},
   "outputs": [
    {
     "data": {
      "text/plain": [
       "False"
      ]
     },
     "execution_count": 2,
     "metadata": {},
     "output_type": "execute_result"
    }
   ],
   "source": [
    "s = \"Apoorv\"\n",
    "a = lambda x : x.isnumeric()\n",
    "a(s)"
   ]
  },
  {
   "cell_type": "markdown",
   "id": "71678992-1755-437b-b0ec-a4a03692957a",
   "metadata": {},
   "source": [
    "Sort Tuple"
   ]
  },
  {
   "cell_type": "code",
   "execution_count": 35,
   "id": "7b611a64-e71d-4dcb-a7af-adc862af5915",
   "metadata": {},
   "outputs": [],
   "source": [
    "t = [(\"mango\",99),(\"orange\",80), (\"grapes\", 1000)]"
   ]
  },
  {
   "cell_type": "code",
   "execution_count": 36,
   "id": "163582da-0f97-4f6f-928c-441ac07bb158",
   "metadata": {},
   "outputs": [],
   "source": [
    "t.sort(key = lambda x : x[1])"
   ]
  },
  {
   "cell_type": "code",
   "execution_count": 37,
   "id": "0c63a0ba-fd8b-4e5a-87ae-bcbb8d9afbfb",
   "metadata": {},
   "outputs": [
    {
     "data": {
      "text/plain": [
       "[('orange', 80), ('mango', 99), ('grapes', 1000)]"
      ]
     },
     "execution_count": 37,
     "metadata": {},
     "output_type": "execute_result"
    }
   ],
   "source": [
    "t"
   ]
  },
  {
   "cell_type": "markdown",
   "id": "d2adc054-3b24-4e12-a8e8-5d93fa041ede",
   "metadata": {},
   "source": [
    "Sq of numbers"
   ]
  },
  {
   "cell_type": "code",
   "execution_count": 21,
   "id": "3ba7cade-02b2-43d8-98e1-1aa9de73bc96",
   "metadata": {},
   "outputs": [
    {
     "data": {
      "text/plain": [
       "[1, 4, 9, 16, 25, 36, 49, 64, 81, 100]"
      ]
     },
     "execution_count": 21,
     "metadata": {},
     "output_type": "execute_result"
    }
   ],
   "source": [
    "l = [1,2,3,4,5,6, 7, 8, 9, 10]\n",
    "list(map(lambda x : x**2, l))"
   ]
  },
  {
   "cell_type": "markdown",
   "id": "fdd35a74-ab9f-4897-a38d-6519cef051a5",
   "metadata": {},
   "source": [
    "Cube of numbers"
   ]
  },
  {
   "cell_type": "code",
   "execution_count": 22,
   "id": "0bfcfc2a-5bc0-4fda-bbb4-db8519d598e2",
   "metadata": {},
   "outputs": [
    {
     "data": {
      "text/plain": [
       "[1, 8, 27, 64, 125, 216, 343, 512, 729, 1000]"
      ]
     },
     "execution_count": 22,
     "metadata": {},
     "output_type": "execute_result"
    }
   ],
   "source": [
    "l = [1,2,3,4,5,6, 7, 8, 9, 10]\n",
    "list(map(lambda x : x**3, l))"
   ]
  },
  {
   "cell_type": "markdown",
   "id": "e4293d33-2b94-4d32-a9bd-616c8d90462c",
   "metadata": {},
   "source": [
    "Check if number is even"
   ]
  },
  {
   "cell_type": "code",
   "execution_count": 9,
   "id": "62e32eab-dfe7-44e2-a346-8c48955fe581",
   "metadata": {},
   "outputs": [],
   "source": [
    "a = lambda x : x%2 == 0"
   ]
  },
  {
   "cell_type": "code",
   "execution_count": 10,
   "id": "67aa220c-8272-4c4f-99a2-ffa6cdbe6353",
   "metadata": {},
   "outputs": [
    {
     "data": {
      "text/plain": [
       "True"
      ]
     },
     "execution_count": 10,
     "metadata": {},
     "output_type": "execute_result"
    }
   ],
   "source": [
    "a(2)"
   ]
  },
  {
   "cell_type": "markdown",
   "id": "cd7916ab-c689-4fde-a9d0-2f0bf39b71c3",
   "metadata": {},
   "source": [
    "Filter odd numbers"
   ]
  },
  {
   "cell_type": "code",
   "execution_count": 11,
   "id": "0fe35033-f83b-4d72-b2ec-991053f0571e",
   "metadata": {},
   "outputs": [],
   "source": [
    "u = [1,2,3,4,5,6,7,8,9,10]"
   ]
  },
  {
   "cell_type": "code",
   "execution_count": 13,
   "id": "c56d9bd5-d72c-403b-98e2-43d8cc27bb7c",
   "metadata": {},
   "outputs": [
    {
     "data": {
      "text/plain": [
       "[1, 3, 5, 7, 9]"
      ]
     },
     "execution_count": 13,
     "metadata": {},
     "output_type": "execute_result"
    }
   ],
   "source": [
    "a = list(filter(lambda x : x%2 != 0, u))\n",
    "a"
   ]
  },
  {
   "cell_type": "markdown",
   "id": "2212b17e-b613-4091-af27-7e54bdea76ca",
   "metadata": {},
   "source": [
    "Filter positive and negative numbers"
   ]
  },
  {
   "cell_type": "code",
   "execution_count": 14,
   "id": "2a1fbb4f-c6d9-4e55-b743-50c9a93f882b",
   "metadata": {},
   "outputs": [],
   "source": [
    "i = [1,2,3,4,5,6,-1,-2,-3,-4,-5,0]"
   ]
  },
  {
   "cell_type": "code",
   "execution_count": 18,
   "id": "e842a6f2-5092-4966-8540-9e9e46989b78",
   "metadata": {},
   "outputs": [],
   "source": [
    "positive = list(filter(lambda x : x >= 0, i))\n",
    "negative = list(filter(lambda x : x < 0, i))"
   ]
  },
  {
   "cell_type": "code",
   "execution_count": 19,
   "id": "04f84f2d-458c-4870-88c8-5ca99fb5d6cb",
   "metadata": {},
   "outputs": [
    {
     "data": {
      "text/plain": [
       "[1, 2, 3, 4, 5, 6, 0]"
      ]
     },
     "execution_count": 19,
     "metadata": {},
     "output_type": "execute_result"
    }
   ],
   "source": [
    "positive"
   ]
  },
  {
   "cell_type": "code",
   "execution_count": 20,
   "id": "c1aad0e5-1e16-4b7b-bcec-7a16ff6ce717",
   "metadata": {},
   "outputs": [
    {
     "data": {
      "text/plain": [
       "[-1, -2, -3, -4, -5]"
      ]
     },
     "execution_count": 20,
     "metadata": {},
     "output_type": "execute_result"
    }
   ],
   "source": [
    "negative"
   ]
  },
  {
   "cell_type": "code",
   "execution_count": null,
   "id": "bd6c0af4-c025-4dbe-9062-5f30821c1888",
   "metadata": {},
   "outputs": [],
   "source": []
  }
 ],
 "metadata": {
  "kernelspec": {
   "display_name": "Python 3 (ipykernel)",
   "language": "python",
   "name": "python3"
  },
  "language_info": {
   "codemirror_mode": {
    "name": "ipython",
    "version": 3
   },
   "file_extension": ".py",
   "mimetype": "text/x-python",
   "name": "python",
   "nbconvert_exporter": "python",
   "pygments_lexer": "ipython3",
   "version": "3.10.8"
  }
 },
 "nbformat": 4,
 "nbformat_minor": 5
}
