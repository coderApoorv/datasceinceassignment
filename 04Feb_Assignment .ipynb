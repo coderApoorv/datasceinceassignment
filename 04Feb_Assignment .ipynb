{
 "cells": [
  {
   "cell_type": "markdown",
   "id": "6d55241e-b2fa-4fc2-ab23-1419b539361c",
   "metadata": {},
   "source": [
    "1."
   ]
  },
  {
   "cell_type": "code",
   "execution_count": 2,
   "id": "9b8b17b7-c2b4-459d-bdd9-df5ca1c7fdec",
   "metadata": {},
   "outputs": [],
   "source": [
    "t = [('Sachin Tendulkar', 34357), ('Ricky Ponting', 27483), ('Jack Kallis', 25534), ('Virat Kohli', 24936)]"
   ]
  },
  {
   "cell_type": "code",
   "execution_count": 3,
   "id": "eb04daa7-63aa-471f-8c4e-4070298d3d4d",
   "metadata": {},
   "outputs": [
    {
     "name": "stdout",
     "output_type": "stream",
     "text": [
      "[('Virat Kohli', 24936), ('Jack Kallis', 25534), ('Ricky Ponting', 27483), ('Sachin Tendulkar', 34357)]\n"
     ]
    }
   ],
   "source": [
    "t.sort(key = lambda x: x[1])\n",
    "print(t)"
   ]
  },
  {
   "cell_type": "code",
   "execution_count": null,
   "id": "eb40e067-daf6-4cf2-afa5-7fe39b3d7908",
   "metadata": {},
   "outputs": [],
   "source": []
  },
  {
   "cell_type": "markdown",
   "id": "c7db54fd-103c-4051-9e92-0ff49318e6b3",
   "metadata": {},
   "source": [
    "2."
   ]
  },
  {
   "cell_type": "code",
   "execution_count": 9,
   "id": "9cf83672-0a0d-4da0-8a90-f988241b6b71",
   "metadata": {},
   "outputs": [],
   "source": [
    "l = [1, 2, 3, 4, 5, 6, 7, 8, 9, 10]"
   ]
  },
  {
   "cell_type": "code",
   "execution_count": 10,
   "id": "57152fec-c1c1-479a-b16f-4c10ef0b3d4f",
   "metadata": {},
   "outputs": [],
   "source": [
    "a = list(map(lambda x : x**2, l))"
   ]
  },
  {
   "cell_type": "code",
   "execution_count": 11,
   "id": "da21c51d-d6bb-42e9-8fc8-f61f9ee66005",
   "metadata": {},
   "outputs": [
    {
     "data": {
      "text/plain": [
       "[1, 4, 9, 16, 25, 36, 49, 64, 81, 100]"
      ]
     },
     "execution_count": 11,
     "metadata": {},
     "output_type": "execute_result"
    }
   ],
   "source": [
    "a"
   ]
  },
  {
   "cell_type": "markdown",
   "id": "5ef912ed-54b8-49ed-bd7e-d426b6c845b9",
   "metadata": {},
   "source": [
    "3."
   ]
  },
  {
   "cell_type": "code",
   "execution_count": 12,
   "id": "bc37e05d-fb6d-4ffc-98a0-23ddb1aa5873",
   "metadata": {},
   "outputs": [],
   "source": [
    "l = [1, 2, 3, 4, 5, 6, 7, 8, 9, 10]"
   ]
  },
  {
   "cell_type": "code",
   "execution_count": 13,
   "id": "3f1d3ece-838d-49a0-9be1-64ad179a6d21",
   "metadata": {},
   "outputs": [],
   "source": [
    "a = tuple(map(lambda x : str(x), l))"
   ]
  },
  {
   "cell_type": "code",
   "execution_count": 14,
   "id": "18233386-e94c-4602-9813-d209a8d787e5",
   "metadata": {},
   "outputs": [
    {
     "data": {
      "text/plain": [
       "('1', '2', '3', '4', '5', '6', '7', '8', '9', '10')"
      ]
     },
     "execution_count": 14,
     "metadata": {},
     "output_type": "execute_result"
    }
   ],
   "source": [
    "a"
   ]
  },
  {
   "cell_type": "markdown",
   "id": "71a4619c-da22-4913-a126-24d06220251a",
   "metadata": {},
   "source": [
    "4."
   ]
  },
  {
   "cell_type": "code",
   "execution_count": 21,
   "id": "6023301f-f63e-424c-b7c8-a3204327e003",
   "metadata": {},
   "outputs": [],
   "source": [
    "from functools import reduce\n"
   ]
  },
  {
   "cell_type": "code",
   "execution_count": 15,
   "id": "bb20e3b2-b998-4b3a-a17a-644cc41437ed",
   "metadata": {},
   "outputs": [],
   "source": [
    "n = []\n",
    "for i in range(1, 26):\n",
    "    n.append(i)\n",
    "    "
   ]
  },
  {
   "cell_type": "code",
   "execution_count": 22,
   "id": "4953f928-510d-447d-b598-9e77a06e854c",
   "metadata": {},
   "outputs": [],
   "source": [
    "a = reduce(lambda x,y : x*y, n)"
   ]
  },
  {
   "cell_type": "code",
   "execution_count": 23,
   "id": "cccffcdd-137f-4d85-8c33-cec686088934",
   "metadata": {},
   "outputs": [
    {
     "data": {
      "text/plain": [
       "15511210043330985984000000"
      ]
     },
     "execution_count": 23,
     "metadata": {},
     "output_type": "execute_result"
    }
   ],
   "source": [
    "a"
   ]
  },
  {
   "cell_type": "markdown",
   "id": "dd05d6b9-1a15-425c-9faa-522cf81e4b88",
   "metadata": {},
   "source": [
    "5."
   ]
  },
  {
   "cell_type": "code",
   "execution_count": 24,
   "id": "8104be15-8afa-4e76-801f-9c1f23a4a3fe",
   "metadata": {},
   "outputs": [],
   "source": [
    "a = [2, 3, 6, 9, 27, 60, 90, 120, 55, 46]"
   ]
  },
  {
   "cell_type": "code",
   "execution_count": 25,
   "id": "008b3bf7-eada-4c20-bc10-4be1e32a4e0c",
   "metadata": {},
   "outputs": [
    {
     "data": {
      "text/plain": [
       "[6, 60, 90, 120]"
      ]
     },
     "execution_count": 25,
     "metadata": {},
     "output_type": "execute_result"
    }
   ],
   "source": [
    "list(filter(lambda x : x%2 == 0 and x%3 == 0,a ))"
   ]
  },
  {
   "cell_type": "markdown",
   "id": "e0f39368-b45a-4370-bdb1-4376b5647972",
   "metadata": {},
   "source": [
    "6."
   ]
  },
  {
   "cell_type": "code",
   "execution_count": 26,
   "id": "2ca5282e-c479-43f4-98ff-76fb9ffce922",
   "metadata": {},
   "outputs": [],
   "source": [
    "p = ['python', 'php', 'aba', 'radar', 'level']"
   ]
  },
  {
   "cell_type": "code",
   "execution_count": 29,
   "id": "482d8d6c-9760-4e93-8cfc-c7b01a8ebf41",
   "metadata": {},
   "outputs": [
    {
     "data": {
      "text/plain": [
       "['php', 'aba', 'radar', 'level']"
      ]
     },
     "execution_count": 29,
     "metadata": {},
     "output_type": "execute_result"
    }
   ],
   "source": [
    "list(filter(lambda x : x==x[::-1],p ))"
   ]
  }
 ],
 "metadata": {
  "kernelspec": {
   "display_name": "Python 3 (ipykernel)",
   "language": "python",
   "name": "python3"
  },
  "language_info": {
   "codemirror_mode": {
    "name": "ipython",
    "version": 3
   },
   "file_extension": ".py",
   "mimetype": "text/x-python",
   "name": "python",
   "nbconvert_exporter": "python",
   "pygments_lexer": "ipython3",
   "version": "3.10.8"
  }
 },
 "nbformat": 4,
 "nbformat_minor": 5
}
