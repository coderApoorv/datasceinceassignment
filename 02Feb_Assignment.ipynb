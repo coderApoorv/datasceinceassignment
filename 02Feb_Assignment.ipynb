{
 "cells": [
  {
   "cell_type": "markdown",
   "id": "e7a3905f-62ea-4ed7-9280-763d07418d6c",
   "metadata": {},
   "source": [
    "1. Characteristics of tuples are:\n",
    "\n",
    "\n",
    "\n",
    "    They are indexed.\n",
    "    Tuples are ordered.\n",
    "    They are immutable.\n",
    "    They can contain duplicate items.\n",
    "    \n",
    "    Tuple  is immutable ie we cannot change the value it contain."
   ]
  },
  {
   "cell_type": "markdown",
   "id": "97a945e5-bf96-41b7-b1ae-e339748abc5f",
   "metadata": {},
   "source": [
    "2. Two methods of tuples in python are:\n",
    "   1. count() --> returns the count of specified value occured in the tuple\n",
    "   2. Index() --> returns the index number/position of the specified value\n",
    "   eg : \n",
    "   "
   ]
  },
  {
   "cell_type": "code",
   "execution_count": 4,
   "id": "b127e48e-1ae3-4475-ad3b-8e3104ced009",
   "metadata": {},
   "outputs": [
    {
     "data": {
      "text/plain": [
       "2"
      ]
     },
     "execution_count": 4,
     "metadata": {},
     "output_type": "execute_result"
    }
   ],
   "source": [
    "t = (1,2,3,3,4,4,5)\n",
    "t.count(3)\n"
   ]
  },
  {
   "cell_type": "code",
   "execution_count": 5,
   "id": "cdf53ca7-cac3-4127-84b2-b66416b83bb0",
   "metadata": {},
   "outputs": [
    {
     "data": {
      "text/plain": [
       "6"
      ]
     },
     "execution_count": 5,
     "metadata": {},
     "output_type": "execute_result"
    }
   ],
   "source": [
    "t.index(5)"
   ]
  },
  {
   "cell_type": "markdown",
   "id": "b695dae0-bdd0-44a1-a64a-5f3b3d2f66f1",
   "metadata": {},
   "source": [
    "Since tuples are immutable, therefore it has only two builtin methods"
   ]
  },
  {
   "cell_type": "markdown",
   "id": "d729aad8-d9ec-43cc-a47c-c528fc65694c",
   "metadata": {},
   "source": [
    "3. Sets in python do not allow duplicate items.\n",
    "    "
   ]
  },
  {
   "cell_type": "code",
   "execution_count": 3,
   "id": "1f26934c-3b61-49ec-8284-4c8bb387b9f6",
   "metadata": {},
   "outputs": [
    {
     "data": {
      "text/plain": [
       "{1, 2, 3, 4}"
      ]
     },
     "execution_count": 3,
     "metadata": {},
     "output_type": "execute_result"
    }
   ],
   "source": [
    "List = [1, 1, 1, 2, 1, 3, 1, 4, 2, 1, 2, 2, 2, 3, 2, 4, 3, 1, 3, 2, 3, 3, 3, 4, 4, 1, 4, 2, 4, 3, 4, 4]\n",
    "set(List)"
   ]
  },
  {
   "cell_type": "markdown",
   "id": "7d5b35e8-a008-45ab-b89b-b02727c3f5f0",
   "metadata": {},
   "source": [
    "4. Difference is that where union() method create and return a new set, containing all the elements ( distinct ) \n",
    "   present in all the iterables, update() method updates the set on which this method is called with all the distinct \n",
    "   elements present in all the iterables.\n",
    "   eg:"
   ]
  },
  {
   "cell_type": "code",
   "execution_count": 6,
   "id": "542e74ad-3053-4450-b5d1-1f852790c8ac",
   "metadata": {},
   "outputs": [],
   "source": [
    "s ={1,2,3,4}\n",
    "s1 = {1,5,6,7}"
   ]
  },
  {
   "cell_type": "code",
   "execution_count": 7,
   "id": "c8234990-26bc-44f5-8151-1cea3f3982e6",
   "metadata": {},
   "outputs": [],
   "source": [
    "s.update(s1)"
   ]
  },
  {
   "cell_type": "code",
   "execution_count": 8,
   "id": "c08aec05-bf37-481d-a313-bb46f3d769b7",
   "metadata": {},
   "outputs": [
    {
     "data": {
      "text/plain": [
       "{1, 2, 3, 4, 5, 6, 7}"
      ]
     },
     "execution_count": 8,
     "metadata": {},
     "output_type": "execute_result"
    }
   ],
   "source": [
    "s"
   ]
  },
  {
   "cell_type": "code",
   "execution_count": 10,
   "id": "a889ebaa-87c7-4cb1-874d-038e5f22c185",
   "metadata": {},
   "outputs": [
    {
     "data": {
      "text/plain": [
       "{1, 2, 3, 4, 5, 6, 7}"
      ]
     },
     "execution_count": 10,
     "metadata": {},
     "output_type": "execute_result"
    }
   ],
   "source": [
    "s1.union(s)"
   ]
  },
  {
   "cell_type": "code",
   "execution_count": 11,
   "id": "633618bf-a5ea-40a7-93cf-1a6f55b06323",
   "metadata": {},
   "outputs": [
    {
     "data": {
      "text/plain": [
       "{1, 5, 6, 7}"
      ]
     },
     "execution_count": 11,
     "metadata": {},
     "output_type": "execute_result"
    }
   ],
   "source": [
    "s1"
   ]
  },
  {
   "cell_type": "markdown",
   "id": "4f3628d9-760b-4ec1-9635-939ac4f0441d",
   "metadata": {},
   "source": [
    "5. Dictionary is a collection which store items in key value pair."
   ]
  },
  {
   "cell_type": "code",
   "execution_count": 12,
   "id": "6f6e29dd-57e3-4ac9-aeb9-442472141257",
   "metadata": {},
   "outputs": [],
   "source": [
    "d = {\"key1\":\"Value1\",\"keys2\":\"Value2\"}"
   ]
  },
  {
   "cell_type": "code",
   "execution_count": 13,
   "id": "04d5c108-04d3-48e5-b9c3-0b22ea3ea023",
   "metadata": {},
   "outputs": [
    {
     "data": {
      "text/plain": [
       "{'key1': 'Value1', 'keys2': 'Value2'}"
      ]
     },
     "execution_count": 13,
     "metadata": {},
     "output_type": "execute_result"
    }
   ],
   "source": [
    "d"
   ]
  },
  {
   "cell_type": "markdown",
   "id": "35573b06-c95a-49f4-a3f6-4e33d2f8fb0c",
   "metadata": {},
   "source": [
    "Dictionary is ordered."
   ]
  },
  {
   "cell_type": "markdown",
   "id": "4c9ed985-2457-4cd1-add3-3ea3c005ea92",
   "metadata": {},
   "source": [
    "6. Yes we can create a nested dictionary.\n",
    "   eg:"
   ]
  },
  {
   "cell_type": "code",
   "execution_count": 15,
   "id": "535572e4-d67b-451a-b524-398065a163ce",
   "metadata": {},
   "outputs": [],
   "source": [
    "nested_dict = { 'dictA': {'key_1': 'value_1'},\n",
    "                'dictB': {'key_2': 'value_2'}}"
   ]
  },
  {
   "cell_type": "code",
   "execution_count": 16,
   "id": "0d4658c6-c8db-444b-b988-a900ba540b9f",
   "metadata": {},
   "outputs": [
    {
     "data": {
      "text/plain": [
       "{'dictA': {'key_1': 'value_1'}, 'dictB': {'key_2': 'value_2'}}"
      ]
     },
     "execution_count": 16,
     "metadata": {},
     "output_type": "execute_result"
    }
   ],
   "source": [
    "nested_dict"
   ]
  },
  {
   "cell_type": "markdown",
   "id": "03122100-11bb-44de-ba4d-7b674abf5038",
   "metadata": {},
   "source": [
    "7."
   ]
  },
  {
   "cell_type": "code",
   "execution_count": 20,
   "id": "f94183d8-1071-467b-9aed-7439c96c9c61",
   "metadata": {},
   "outputs": [
    {
     "name": "stdout",
     "output_type": "stream",
     "text": [
      "['Python', 'Machine Learning', 'Deep Learning']\n"
     ]
    }
   ],
   "source": [
    "dict_1 = { \n",
    "    \"topic\" : [\"Python\", \"Machine Learning\", \"Deep Learning\"]\n",
    "}\n",
    "\n",
    "x = dict_1.setdefault(\"topic\", \"Python\")\n",
    "\n",
    "print(x)"
   ]
  },
  {
   "cell_type": "markdown",
   "id": "d20b1601-8911-48f5-9d44-630442f4df96",
   "metadata": {},
   "source": [
    "8. The three view objects of dictionary in python are keys, values and items"
   ]
  },
  {
   "cell_type": "code",
   "execution_count": 21,
   "id": "5390fb45-f484-4008-8c01-80ec3b4dd08e",
   "metadata": {},
   "outputs": [],
   "source": [
    "dict1 = {'Sport': 'Cricket' , 'Teams': ['India', 'Australia', 'England', 'South Africa', 'Sri Lanka', 'New Zealand']}"
   ]
  },
  {
   "cell_type": "code",
   "execution_count": 22,
   "id": "f8d807a4-206a-40cc-860b-ecf58be76081",
   "metadata": {},
   "outputs": [
    {
     "name": "stdout",
     "output_type": "stream",
     "text": [
      "dict_keys(['Sport', 'Teams'])\n"
     ]
    }
   ],
   "source": [
    "print(dict1.keys())"
   ]
  },
  {
   "cell_type": "code",
   "execution_count": null,
   "id": "34382591-e676-4ffa-a4eb-ff03f139bbaf",
   "metadata": {},
   "outputs": [],
   "source": []
  }
 ],
 "metadata": {
  "kernelspec": {
   "display_name": "Python 3 (ipykernel)",
   "language": "python",
   "name": "python3"
  },
  "language_info": {
   "codemirror_mode": {
    "name": "ipython",
    "version": 3
   },
   "file_extension": ".py",
   "mimetype": "text/x-python",
   "name": "python",
   "nbconvert_exporter": "python",
   "pygments_lexer": "ipython3",
   "version": "3.10.8"
  }
 },
 "nbformat": 4,
 "nbformat_minor": 5
}
