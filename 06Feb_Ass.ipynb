{
 "cells": [
  {
   "cell_type": "markdown",
   "id": "0ed6671b-6b3b-4d15-abf1-01f1596c9b36",
   "metadata": {},
   "source": [
    "Q1. Create a function which will take a list as an argument and return the product of all the numbers\n",
    "after creating a flat list.\n",
    "Use the below-given list as an argument for your function.\n",
    "list1 = [1,2,3,4, [44,55,66, True], False, (34,56,78,89,34), {1,2,3,3,2,1}, {1:34, \"key2\": [55, 67, 78, 89], 4: (45,\n",
    "22, 61, 34)}, [56, 'data science'], 'Machine Learning']\n",
    "Note: you must extract numeric keys and values of the dictionary also."
   ]
  },
  {
   "cell_type": "code",
   "execution_count": 40,
   "id": "3df833f0-d9c1-4d1a-b40c-0aa2f391871d",
   "metadata": {},
   "outputs": [],
   "source": [
    "def prod_all_numbers(lst):\n",
    "    prod = 1\n",
    "    for i in lst:\n",
    "        if type(i) == int or type(i) == float:\n",
    "            prod = prod * i\n",
    "        elif type(i) == list or type(i) == set or type(i) == tuple:\n",
    "            for j in i:\n",
    "                if type(j) == int or type(j) == float:\n",
    "                    prod = prod * j\n",
    "        elif type(i) == dict:\n",
    "            for j in range(len(i)-1):\n",
    "                if type(list(i.keys())[j]) == int  or type(list(i.keys())[j]) == float:\n",
    "                    prod = prod * list(i.keys())[j]\n",
    "                if type(list(i.values())[j]) == int or type(list(i.values())[j]) == float:\n",
    "                    prod = prod * list(i.values())[j]\n",
    "                else:  \n",
    "                \n",
    "                    for k  in list(i.values())[j]:    \n",
    "                        if k == int or k == float:\n",
    "                            prod = prod * k\n",
    "    return prod              \n",
    "                "
   ]
  },
  {
   "cell_type": "code",
   "execution_count": 41,
   "id": "0e50151d-2ddc-4246-8904-0c9e9c5c6a48",
   "metadata": {},
   "outputs": [],
   "source": [
    "list1 = [1,2,3,4, [44,55,66, True], False, (34,56,78,89,34), {1,2,3,3,2,1}, {1:34, \"key2\": [55, 67, 78, 89], 4: (45,\n",
    "22, 61, 34)}, [56, 'data science'], 'Machine Learning']"
   ]
  },
  {
   "cell_type": "code",
   "execution_count": 42,
   "id": "7e3ea677-c617-4cff-b9c8-368332c523b3",
   "metadata": {},
   "outputs": [
    {
     "data": {
      "text/plain": [
       "19679733278309744640"
      ]
     },
     "execution_count": 42,
     "metadata": {},
     "output_type": "execute_result"
    }
   ],
   "source": [
    "prod_all_numbers(list1)"
   ]
  },
  {
   "cell_type": "markdown",
   "id": "58b210bd-181b-4974-a12d-fbd1584a47fc",
   "metadata": {},
   "source": [
    "Q2. Write a python program for encrypting a message sent to you by your friend. The logic of encryption\n",
    "should be such that, for a the output should be z. For b, the output should be y. For c, the output should\n",
    "be x respectively. Also, the whitespace should be replaced with a dollar sign. Keep the punctuation\n",
    "marks unchanged.\n",
    "Input Sentence: I want to become a Data Scientist.\n",
    "Encrypt the above input sentence using the program you just created.\n",
    "Note: Convert the given input sentence into lowercase before encrypting. The final output should be\n",
    "lowercase."
   ]
  },
  {
   "cell_type": "code",
   "execution_count": 9,
   "id": "a454f768-3ea7-4b6a-afb9-0f17f9baf9a3",
   "metadata": {},
   "outputs": [],
   "source": [
    "def encryption(s):\n",
    "    l = ['a','b','c','d','e','f','g','h','i','j','k','l','m','n','o','p','q','r','s','t','u','v','w','x','y','z']\n",
    "    n = []\n",
    "    for i in range(len(l)):\n",
    "        n.append(l[len(l)-i-1])\n",
    "    t = ''\n",
    "    s=s.lower()\n",
    "    for i in range(len(s)):\n",
    "        if s[i] == ' ':\n",
    "            t = t+'$'\n",
    "        elif s[i].is:\n",
    "            t = t + n[l.index(s[i])]\n",
    "            \n",
    "        else:\n",
    "            t = t+s[i]\n",
    "    print(t)            \n",
    "    \n",
    "    "
   ]
  },
  {
   "cell_type": "code",
   "execution_count": 10,
   "id": "ccb0e492-f563-4f15-a893-0f48c25537e0",
   "metadata": {},
   "outputs": [
    {
     "ename": "ValueError",
     "evalue": "'.' is not in list",
     "output_type": "error",
     "traceback": [
      "\u001b[0;31m---------------------------------------------------------------------------\u001b[0m",
      "\u001b[0;31mValueError\u001b[0m                                Traceback (most recent call last)",
      "Cell \u001b[0;32mIn[10], line 2\u001b[0m\n\u001b[1;32m      1\u001b[0m s \u001b[38;5;241m=\u001b[39m\u001b[38;5;124m'\u001b[39m\u001b[38;5;124mI want to become a Data Scientist.\u001b[39m\u001b[38;5;124m'\u001b[39m\n\u001b[0;32m----> 2\u001b[0m \u001b[43mencryption\u001b[49m\u001b[43m(\u001b[49m\u001b[43ms\u001b[49m\u001b[43m)\u001b[49m\n",
      "Cell \u001b[0;32mIn[9], line 12\u001b[0m, in \u001b[0;36mencryption\u001b[0;34m(s)\u001b[0m\n\u001b[1;32m     10\u001b[0m     t \u001b[38;5;241m=\u001b[39m t\u001b[38;5;241m+\u001b[39m\u001b[38;5;124m'\u001b[39m\u001b[38;5;124m$\u001b[39m\u001b[38;5;124m'\u001b[39m\n\u001b[1;32m     11\u001b[0m \u001b[38;5;28;01melif\u001b[39;00m \u001b[38;5;28mtype\u001b[39m(s[i]) \u001b[38;5;241m==\u001b[39m \u001b[38;5;28mstr\u001b[39m:\n\u001b[0;32m---> 12\u001b[0m     t \u001b[38;5;241m=\u001b[39m t \u001b[38;5;241m+\u001b[39m n[\u001b[43ml\u001b[49m\u001b[38;5;241;43m.\u001b[39;49m\u001b[43mindex\u001b[49m\u001b[43m(\u001b[49m\u001b[43ms\u001b[49m\u001b[43m[\u001b[49m\u001b[43mi\u001b[49m\u001b[43m]\u001b[49m\u001b[43m)\u001b[49m]\n\u001b[1;32m     14\u001b[0m \u001b[38;5;28;01melse\u001b[39;00m:\n\u001b[1;32m     15\u001b[0m     t \u001b[38;5;241m=\u001b[39m t\u001b[38;5;241m+\u001b[39ms[i]\n",
      "\u001b[0;31mValueError\u001b[0m: '.' is not in list"
     ]
    }
   ],
   "source": [
    "s ='I want to become a Data Scientist.'\n",
    "encryption(s)"
   ]
  },
  {
   "cell_type": "code",
   "execution_count": null,
   "id": "8fefa377-e7bd-4ac6-9f4e-ee2cb749e633",
   "metadata": {},
   "outputs": [],
   "source": []
  }
 ],
 "metadata": {
  "kernelspec": {
   "display_name": "Python 3 (ipykernel)",
   "language": "python",
   "name": "python3"
  },
  "language_info": {
   "codemirror_mode": {
    "name": "ipython",
    "version": 3
   },
   "file_extension": ".py",
   "mimetype": "text/x-python",
   "name": "python",
   "nbconvert_exporter": "python",
   "pygments_lexer": "ipython3",
   "version": "3.10.8"
  }
 },
 "nbformat": 4,
 "nbformat_minor": 5
}
