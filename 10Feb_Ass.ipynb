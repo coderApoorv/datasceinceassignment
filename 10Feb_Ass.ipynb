{
 "cells": [
  {
   "cell_type": "markdown",
   "id": "a97abbd1-0817-45df-89e8-d3665c9ec634",
   "metadata": {},
   "source": [
    "Q1. Which function is used to open a file? What are the different modes of opening a file? Explain each mode\n",
    "of file opening."
   ]
  },
  {
   "cell_type": "markdown",
   "id": "372aab52-4187-440f-b190-5fa0b49a0194",
   "metadata": {},
   "source": [
    "The open() function opens a file, and returns it as a file object.\n",
    "Different modes of opening a file are:\n",
    "\"r\" - Read - Default value. Opens a file for reading, error if the file does not exist\n",
    "\"a\" - Append - Opens a file for appending, creates the file if it does not exist\n",
    "\"w\" - Write - Opens a file for writing, creates the file if it does not exist\n",
    "\"x\" - Create - Creates the specified file, returns an error if the file exist"
   ]
  },
  {
   "cell_type": "markdown",
   "id": "213e1e00-e950-4fb7-ac55-236452b2ec37",
   "metadata": {},
   "source": [
    "Q2. Why close() function is used? Why is it important to close a file?"
   ]
  },
  {
   "cell_type": "markdown",
   "id": "a940e6d4-a11a-451c-ab30-1f7a62751659",
   "metadata": {},
   "source": [
    "The close() method closes an open file.\n",
    "It is important to close file as in some cases, due to buffering, changes made to a file may not show until you close the file."
   ]
  },
  {
   "cell_type": "markdown",
   "id": "0bac4827-ffaf-4403-9766-42622afb2786",
   "metadata": {},
   "source": [
    "Q3. Write a python program to create a text file. Write ‘I want to become a Data Scientist’ in that file. Then\n",
    "close the file. Open this file and read the content of the file."
   ]
  },
  {
   "cell_type": "markdown",
   "id": "f98f1d5e-3ee7-41d7-b95a-e5114907ecbe",
   "metadata": {},
   "source": [
    " f = open(\"myfile.txt\", \"w\")\n",
    "    f.write('I want to become a Data Scientist')\n",
    "    f.close()\n",
    " \n",
    " f = open(\"myfile.txt\", 'r')\n",
    "    f.read()\n",
    "    f.close()"
   ]
  },
  {
   "cell_type": "markdown",
   "id": "8eeee6d3-ca6f-40c3-a3af-d67d619cadb1",
   "metadata": {},
   "source": [
    "Q4. Explain the following with python code: read(), readline() and readlines()."
   ]
  },
  {
   "cell_type": "markdown",
   "id": "2bcf524b-2bf0-4974-aaf5-203128279b04",
   "metadata": {},
   "source": [
    "The read() method returns the specified number of bytes from the file. Default is -1 which means the whole file. Python readline() method will return a line from the file when called. readlines() method will return all the lines in a file in the format of a list where each element is a line in the file."
   ]
  },
  {
   "cell_type": "markdown",
   "id": "96816fde-56a7-4901-bab8-c4bf09543cd1",
   "metadata": {},
   "source": [
    "Q5. Explain why with statement is used with open(). What is the advantage of using with statement and\n",
    "open() together?"
   ]
  },
  {
   "cell_type": "markdown",
   "id": "866d9aa1-dc26-4c77-88eb-46396d52b8c5",
   "metadata": {},
   "source": [
    "The with statement works with the open() function to open a file. Unlike open() where you have to close the file with the close() method, the with statement closes the file for you without you telling it to. This is because the with statement calls 2 built-in methods behind the scene – __enter()__ and __exit()__ ."
   ]
  },
  {
   "cell_type": "markdown",
   "id": "7655f154-f187-4681-a471-5919426dff29",
   "metadata": {},
   "source": [
    "Q6. Explain the write() and writelines() functions. Give a suitable example."
   ]
  },
  {
   "cell_type": "markdown",
   "id": "f565165a-1559-4d39-a242-1010ad29ea23",
   "metadata": {},
   "source": [
    "The write() method accepts a string as an argument and writes this string to the text file. Whereas, the writelines() method accepts an iterable i.e. a string or the list of strings as an argument and writes these strings to the text file."
   ]
  },
  {
   "cell_type": "code",
   "execution_count": null,
   "id": "db1b63ba-10de-4a6e-a366-538be4360242",
   "metadata": {},
   "outputs": [],
   "source": []
  }
 ],
 "metadata": {
  "kernelspec": {
   "display_name": "Python 3 (ipykernel)",
   "language": "python",
   "name": "python3"
  },
  "language_info": {
   "codemirror_mode": {
    "name": "ipython",
    "version": 3
   },
   "file_extension": ".py",
   "mimetype": "text/x-python",
   "name": "python",
   "nbconvert_exporter": "python",
   "pygments_lexer": "ipython3",
   "version": "3.10.8"
  }
 },
 "nbformat": 4,
 "nbformat_minor": 5
}
