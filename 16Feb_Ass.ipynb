{
 "cells": [
  {
   "cell_type": "markdown",
   "id": "ddbfce0b-dbc9-42a0-866b-d4c3e4f0b0bf",
   "metadata": {},
   "source": [
    "Q1. What is a database? Differentiate between SQL and NoSQL databases."
   ]
  },
  {
   "cell_type": "markdown",
   "id": "de1c3dd5-2662-40da-8cab-f541f5e3ae87",
   "metadata": {},
   "source": [
    "A database is an organized collection of data, so that it can be easily accessed and managed.\n",
    "\n",
    "You can organize data into tables, rows, columns, and index it to make it easier to find relevant information.\n",
    "\n",
    "SQL databases are vertically scalable, while NoSQL databases are horizontally scalable. SQL databases are table-based, while NoSQL databases are document, key-value, graph, or wide-column stores. SQL databases are better for multi-row transactions, while NoSQL is better for unstructured data like documents or JSON."
   ]
  },
  {
   "cell_type": "markdown",
   "id": "771d0c64-5889-472e-bd13-f6a8e7b60a60",
   "metadata": {},
   "source": [
    "Q2. What is DDL? Explain why CREATE, DROP, ALTER, and TRUNCATE are used with an example."
   ]
  },
  {
   "cell_type": "markdown",
   "id": "f1958b80-e89a-4657-aa2b-5ed1f7c76f29",
   "metadata": {},
   "source": [
    "Data Definition Language (DDL) is a subset of SQL. It is a language for describing data and its relationships in a database. You can generate DDL in a script for database objects to: Keep a snapshot of the database structure.\n",
    "\n",
    "The CREATE TABLE command creates a new table in the database.\n",
    "The ALTER TABLE command adds, deletes, or modifies columns in a table.\n",
    "The DROP TABLE command deletes a table in the database.\n",
    "The TRUNCATE TABLE command deletes the data inside a table, but not the table itself."
   ]
  },
  {
   "cell_type": "markdown",
   "id": "6a514bab-dead-4543-a994-485be35721e5",
   "metadata": {},
   "source": [
    "Q3. What is DML? Explain INSERT, UPDATE, and DELETE with an example."
   ]
  },
  {
   "cell_type": "markdown",
   "id": "26bbe500-5066-4648-ae31-873902ac71f0",
   "metadata": {},
   "source": [
    "DML is an abbreviation for Data Manipulation Language. Represents a collection of programming languages explicitly used to make changes to the database, such as: CRUD operations to create, read, update and delete data. Using INSERT, SELECT, UPDATE, and DELETE commands.\n",
    "\n",
    "The INSERT statement introduces new rows into an existing table. The DELETE statement removes a row or combination of rows from a table. The UPDATE statement enables users to update a row or group of rows in a table.\n",
    "Data stored in a database needs to be changed and updated time and again to maintain the value data holds. The process is made easy by using the UPDATE statement."
   ]
  },
  {
   "cell_type": "markdown",
   "id": "680ed9fe-7d7a-4e55-9203-711f1302b41c",
   "metadata": {},
   "source": [
    "Q4. What is DQL? Explain SELECT with an example."
   ]
  },
  {
   "cell_type": "markdown",
   "id": "77454eb4-397a-4e52-98be-49fb20698b36",
   "metadata": {},
   "source": [
    "Query languages, often known as DQLs or Data Query Languages, are computer languages that are used to make various queries in information systems and databases. The Structured Query Language (SQL) is a well-known example. DQL statements are used to query the data contained in schema objects\n",
    "\n",
    "SELECT * FROM Student;"
   ]
  },
  {
   "cell_type": "markdown",
   "id": "0e04aadc-e8cb-46f3-886c-87ee1c41dbde",
   "metadata": {},
   "source": [
    "Q5. Explain Primary Key and Foreign Key."
   ]
  },
  {
   "cell_type": "markdown",
   "id": "90a2bbd7-f417-4f3d-9bf3-b5f5f0c3d7dc",
   "metadata": {},
   "source": [
    "A primary key is used to ensure data in the specific column is unique. A foreign key is a column or group of columns in a relational database table that provides a link between data in two tables. It uniquely identifies a record in the relational database table."
   ]
  },
  {
   "cell_type": "markdown",
   "id": "7915ad38-b310-4752-b529-abd25eca963d",
   "metadata": {},
   "source": [
    "Q6. Write a python code to connect MySQL to python. Explain the cursor() and execute() method."
   ]
  },
  {
   "cell_type": "markdown",
   "id": "98d8e777-a954-4877-9942-fc55825e5143",
   "metadata": {},
   "source": [
    "import mysql.connector\n",
    "\n",
    "\n",
    "conn = mysql.connector.connect(\n",
    "    host=\"localhost\",\n",
    "    user=\"your_username\",\n",
    "    password=\"your_password\",\n",
    "    database=\"your_database\"\n",
    ")\n",
    "\n",
    "\n",
    "cursor = conn.cursor()\n",
    "\n",
    "\n",
    "query = \"SELECT * FROM your_table\"\n",
    "cursor.execute(query)\n",
    "\n",
    "\n",
    "results = cursor.fetchall()\n",
    "\n",
    "\n",
    "for row in results:\n",
    "    print(row)\n",
    "\n",
    "\n",
    "cursor.close()\n",
    "conn.close()\n",
    "\n",
    "After connecting to the database, you create a cursor object using the cursor() method. The cursor allows you to execute SQL queries and fetch the results.\n",
    "The execute() method of the cursor is used to execute SQL queries. You pass the query string as a parameter to this method. In the example, a SELECT query is executed."
   ]
  },
  {
   "cell_type": "markdown",
   "id": "bb9532b4-949b-463a-8963-6a440e39b6c3",
   "metadata": {},
   "source": [
    "Q7. Give the order of execution of SQL clauses in an SQL query."
   ]
  },
  {
   "cell_type": "markdown",
   "id": "69dd46a9-5594-41f2-a4f1-edf698d7356e",
   "metadata": {},
   "source": [
    "FROM\n",
    "\n",
    "ON\n",
    "\n",
    "JOIN\n",
    "\n",
    "WHERE\n",
    "\n",
    "GROUP BY\n",
    "\n",
    "WITH CUBE or WITH ROLLUP\n",
    "\n",
    "HAVING\n",
    "\n",
    "SELECT\n",
    "\n",
    "DISTINCT\n",
    "\n",
    "ORDER BY\n",
    "\n",
    "TOP"
   ]
  },
  {
   "cell_type": "code",
   "execution_count": null,
   "id": "86d00ce4-7abf-4aec-b998-8f833064c2fc",
   "metadata": {},
   "outputs": [],
   "source": []
  }
 ],
 "metadata": {
  "kernelspec": {
   "display_name": "Python 3 (ipykernel)",
   "language": "python",
   "name": "python3"
  },
  "language_info": {
   "codemirror_mode": {
    "name": "ipython",
    "version": 3
   },
   "file_extension": ".py",
   "mimetype": "text/x-python",
   "name": "python",
   "nbconvert_exporter": "python",
   "pygments_lexer": "ipython3",
   "version": "3.10.8"
  }
 },
 "nbformat": 4,
 "nbformat_minor": 5
}
