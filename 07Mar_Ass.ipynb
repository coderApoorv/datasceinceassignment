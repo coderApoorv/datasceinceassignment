{
 "cells": [
  {
   "cell_type": "markdown",
   "id": "30a3f866-94a9-4e3c-8f61-4cc7ae9eefa3",
   "metadata": {},
   "source": [
    "Q1. What are the three measures of central tendency?"
   ]
  },
  {
   "cell_type": "markdown",
   "id": "32460c17-77f3-43c3-ab2b-6783351fc787",
   "metadata": {},
   "source": [
    "Three measures of central tendency are:\n",
    "\n",
    "    - Mean\n",
    "    - Median\n",
    "    - Mode"
   ]
  },
  {
   "cell_type": "markdown",
   "id": "6b885140-211d-4f43-b614-3e6a2b4399bc",
   "metadata": {},
   "source": [
    "Q2. What is the difference between the mean, median, and mode? How are they used to measure the\n",
    "central tendency of a dataset?"
   ]
  },
  {
   "cell_type": "markdown",
   "id": "e17ca105-43de-4dab-89fb-7c5c7a777041",
   "metadata": {},
   "source": [
    "Mean - Average of dataset\n",
    "\n",
    "Median - Middle element of dataset\n",
    "\n",
    "Mode - Most frequently occuring element of dataset\n"
   ]
  },
  {
   "cell_type": "markdown",
   "id": "f5d43f15-2bb4-4c01-9a5c-05a3b87fce67",
   "metadata": {},
   "source": [
    "Q3. Measure the three measures of central tendency for the given height data:"
   ]
  },
  {
   "cell_type": "code",
   "execution_count": 2,
   "id": "cc4f9a07-c974-43ff-95d6-a4e2c235fb5a",
   "metadata": {},
   "outputs": [],
   "source": [
    "l = [178,177,176,177,178.2,178,175,179,180,175,178.9,176.2,177,172.5,178,176.5]"
   ]
  },
  {
   "cell_type": "code",
   "execution_count": 7,
   "id": "2d121b6c-7943-4d1b-ac07-b527a114803a",
   "metadata": {},
   "outputs": [
    {
     "data": {
      "text/plain": [
       "(177.01875, 177.0, 178)"
      ]
     },
     "execution_count": 7,
     "metadata": {},
     "output_type": "execute_result"
    }
   ],
   "source": [
    "import numpy as np\n",
    "import statistics\n",
    "np.mean(l), np.median(l), statistics.mode(l)"
   ]
  },
  {
   "cell_type": "markdown",
   "id": "2f71449c-1da5-40fd-af4f-f8cbfdb4932f",
   "metadata": {},
   "source": [
    "Q4. Find the standard deviation for the given data:"
   ]
  },
  {
   "cell_type": "code",
   "execution_count": 9,
   "id": "1097beec-6fea-4975-bd65-6245f5b1baac",
   "metadata": {},
   "outputs": [],
   "source": [
    "l = [178,177,176,177,178.2,178,175,179,180,175,178.9,176.2,177,172.5,178,176.5]"
   ]
  },
  {
   "cell_type": "code",
   "execution_count": 10,
   "id": "c8aefb08-f0a3-4f3b-9b78-684af40e11e7",
   "metadata": {},
   "outputs": [
    {
     "data": {
      "text/plain": [
       "1.7885814036548633"
      ]
     },
     "execution_count": 10,
     "metadata": {},
     "output_type": "execute_result"
    }
   ],
   "source": [
    "np.std(l)"
   ]
  },
  {
   "cell_type": "markdown",
   "id": "fb9316b3-778b-4b63-a20e-a6c5b253e004",
   "metadata": {},
   "source": [
    "Q5. How are measures of dispersion such as range, variance, and standard deviation used to describe\n",
    "the spread of a dataset? Provide an example."
   ]
  },
  {
   "cell_type": "markdown",
   "id": "f183a91f-d7be-406a-8f74-591204193e7f",
   "metadata": {},
   "source": [
    "As the name suggests, the measure of dispersion shows the scatterings of the data. It tells the variation of the data from one another and gives a clear idea about the distribution of the data. The measure of dispersion shows the homogeneity or the heterogeneity of the distribution of the observations."
   ]
  },
  {
   "cell_type": "markdown",
   "id": "26256426-3e9c-4295-a5ac-5710954adfc9",
   "metadata": {},
   "source": [
    "Q6. What is a Venn diagram?"
   ]
  },
  {
   "cell_type": "markdown",
   "id": "868dfd36-ad5e-47a5-85f1-1ffdd8e65f52",
   "metadata": {},
   "source": [
    "A Venn diagram is an illustration that uses circles to show the relationships among things or finite groups of things. Circles that overlap have a commonality while circles that do not overlap do not share those traits. Venn diagrams help to visually represent the similarities and differences between two concepts."
   ]
  },
  {
   "cell_type": "markdown",
   "id": "e08815e2-57f1-4385-9cd7-e81561b0e203",
   "metadata": {},
   "source": [
    "Q7. For the two given sets A = (2,3,4,5,6,7) & B = (0,2,6,8,10). Find:\n",
    "(i) A B\n",
    "(ii) A ⋃ B"
   ]
  },
  {
   "cell_type": "markdown",
   "id": "ae3f1fcb-8ec0-431d-9c5f-e505a61e9a42",
   "metadata": {},
   "source": [
    "1 -- (2,6)\n",
    "\n",
    "2 -- (0,2,3,4,5,6,7,8,10)"
   ]
  },
  {
   "cell_type": "markdown",
   "id": "1312ca46-a032-471e-bd90-8e485064091a",
   "metadata": {},
   "source": [
    "Q8. What do you understand about skewness in data?"
   ]
  },
  {
   "cell_type": "markdown",
   "id": "44c14237-2993-4603-b8f7-9eb7faed9cdb",
   "metadata": {},
   "source": [
    " Skewness is a measurement of the distortion of symmetrical distribution or asymmetry in a data set. Skewness is demonstrated on a bell curve when data points are not distributed symmetrically to the left and right sides of the median on a bell curve."
   ]
  },
  {
   "cell_type": "markdown",
   "id": "b6be34e8-b6c3-4eb8-ae0e-92860c5e48c4",
   "metadata": {},
   "source": [
    "Q9. If a data is right skewed then what will be the position of median with respect to mean?"
   ]
  },
  {
   "cell_type": "markdown",
   "id": "2f6fdd96-1a13-4429-aa48-052b7e6b5a48",
   "metadata": {},
   "source": [
    "Mean > Median"
   ]
  },
  {
   "cell_type": "markdown",
   "id": "de3b7d60-8976-40af-9c74-21174225c4c6",
   "metadata": {},
   "source": [
    "Q10. Explain the difference between covariance and correlation. How are these measures used in\n",
    "statistical analysis?"
   ]
  },
  {
   "cell_type": "markdown",
   "id": "4d411c49-829c-493a-8a8a-383c955144f3",
   "metadata": {},
   "source": [
    "Covariance is an indicator of the extent to which 2 random variables are dependent on each other. A higher number denotes higher dependency. Correlation is a statistical measure that indicates how strongly two variables are related. The value of covariance lies in the range of -∞ and +∞."
   ]
  },
  {
   "cell_type": "markdown",
   "id": "675e4388-cd2e-4376-842a-b5859485cc1a",
   "metadata": {},
   "source": [
    "Q11. What is the formula for calculating the sample mean? Provide an example calculation for a\n",
    "dataset."
   ]
  },
  {
   "cell_type": "markdown",
   "id": "5b386f75-95f0-487b-b697-879bdeb2f51c",
   "metadata": {},
   "source": [
    "The general formula for calculating the sample mean is given by x̄ = ( Σ xi ) / n. Here, x̄ represents the sample mean, xi refers all X sample values and n stands for the number of sample terms in the data set."
   ]
  },
  {
   "cell_type": "markdown",
   "id": "48d8fbc6-6ff8-4988-8fe9-b8f6a7e2fac4",
   "metadata": {},
   "source": [
    "Q12. For a normal distribution data what is the relationship between its measure of central tendency?"
   ]
  },
  {
   "cell_type": "markdown",
   "id": "eabec603-5c2b-49b9-8da3-44cea92a7d32",
   "metadata": {},
   "source": [
    "Mean = Median = Mode"
   ]
  },
  {
   "cell_type": "markdown",
   "id": "0e8662e6-3d21-47e6-bedc-d0d3b760019c",
   "metadata": {},
   "source": [
    "Q13. How is covariance different from correlation?"
   ]
  },
  {
   "cell_type": "markdown",
   "id": "60c4681c-1296-470a-9b8a-a4832d23fcaa",
   "metadata": {},
   "source": [
    "Covariance is an indicator of the extent to which 2 random variables are dependent on each other. A higher number denotes higher dependency. Correlation is a statistical measure that indicates how strongly two variables are related. The value of covariance lies in the range of -∞ and +∞."
   ]
  },
  {
   "cell_type": "markdown",
   "id": "12c62fc0-ff7a-44e7-b281-e52352ecd1a2",
   "metadata": {},
   "source": [
    "Q14. How do outliers affect measures of central tendency and dispersion? Provide an example."
   ]
  },
  {
   "cell_type": "markdown",
   "id": "247278e2-5274-4321-97ed-552f305e32bb",
   "metadata": {},
   "source": [
    "When a outlier is present it can effect the shape of the graph, if we have outliers to the right of the graph. These outliers are causing the mean to increase, but if we have outliers to the left of the graph these outliers are dragging down the mean. This causes a conflict because the mean no longer provides a good representation of the data, alternatively we would much rather use the median. The median on the other hand is less likely to be affect by outliers."
   ]
  },
  {
   "cell_type": "code",
   "execution_count": null,
   "id": "afde8cb4-e035-4a29-86e0-fa9575c9deaf",
   "metadata": {},
   "outputs": [],
   "source": []
  }
 ],
 "metadata": {
  "kernelspec": {
   "display_name": "Python 3 (ipykernel)",
   "language": "python",
   "name": "python3"
  },
  "language_info": {
   "codemirror_mode": {
    "name": "ipython",
    "version": 3
   },
   "file_extension": ".py",
   "mimetype": "text/x-python",
   "name": "python",
   "nbconvert_exporter": "python",
   "pygments_lexer": "ipython3",
   "version": "3.10.8"
  }
 },
 "nbformat": 4,
 "nbformat_minor": 5
}
