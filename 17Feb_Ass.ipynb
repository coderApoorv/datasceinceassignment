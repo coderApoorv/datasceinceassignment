{
 "cells": [
  {
   "cell_type": "markdown",
   "id": "15264256-6011-4112-b46f-27f694c592fe",
   "metadata": {},
   "source": [
    "Q1. What is MongoDB? Explain non-relational databases in short. In which scenarios it is preferred to use\n",
    "MongoDB over SQL databases?"
   ]
  },
  {
   "cell_type": "markdown",
   "id": "f06acaa1-d2d9-494b-a232-7f470de2b18c",
   "metadata": {},
   "source": [
    "MongoDB is a schema-less database, which means the database can manage data without the need for a blueprint. Document. Data in MongoDB is stored in documents with key-value pairs instead of rows and columns, which makes the data more flexible when compared to SQL databases."
   ]
  },
  {
   "cell_type": "markdown",
   "id": "67be3ac3-8a7d-4574-8120-6b367bd4aa85",
   "metadata": {},
   "source": [
    "Q2. State and Explain the features of MongoDB."
   ]
  },
  {
   "cell_type": "markdown",
   "id": "06980443-268c-406e-a4dc-64cbceb55750",
   "metadata": {},
   "source": [
    "1. Support ad hoc queries\n",
    "\n",
    "In MongoDB, you can search by field, range query and it also supports regular expression searches.\n",
    "\n",
    "2. Indexing\n",
    "\n",
    "You can index any field in a document.\n",
    "\n",
    "3. Replication\n",
    "\n",
    "MongoDB supports Master Slave replication.\n",
    "\n",
    "A master can perform Reads and Writes and a Slave copies data from the master and can only be used for reads or back up (not writes)\n",
    "\n",
    "4. Duplication of data\n",
    "\n",
    "MongoDB can run over multiple servers. The data is duplicated to keep the system up and also keep its running condition in case of hardware failure.\n",
    "\n",
    "5. Load balancing\n",
    "\n",
    "It has an automatic load balancing configuration because of data placed in shards."
   ]
  },
  {
   "cell_type": "markdown",
   "id": "0b058cc8-6774-48f2-a0b5-d0c9bed4625d",
   "metadata": {},
   "source": [
    "Q3. Write a code to connect MongoDB to Python. Also, create a database and a collection in MongoDB."
   ]
  },
  {
   "cell_type": "markdown",
   "id": "22540c6d-1524-4e0f-a0e9-dfbd684a9554",
   "metadata": {},
   "source": [
    "from pymongo import MongoClient\n",
    "\n",
    "\n",
    "client = MongoClient(\"mongodb://localhost:27017\")\n",
    "\n",
    "\n",
    "db = client[\"your_database\"]\n",
    "\n",
    "\n",
    "collection = db[\"your_collection\"]\n",
    "\n",
    "\n",
    "document = {\"name\": \"John Doe\", \"age\": 30}\n",
    "collection.insert_one(document)\n",
    "print(\"Document inserted successfully!\")\n",
    "\n",
    "\n",
    "query = {\"age\": {\"$gte\": 25}}\n",
    "results = collection.find(query)\n",
    "for result in results:\n",
    "    print(result)\n",
    "\n",
    "\n",
    "client.close()\n"
   ]
  },
  {
   "cell_type": "markdown",
   "id": "90dea35b-295e-4b73-b559-a34f9a1672ad",
   "metadata": {},
   "source": [
    "Q4. Using the database and the collection created in question number 3, write a code to insert one record,\n",
    "and insert many records. Use the find() and find_one() methods to print the inserted record."
   ]
  },
  {
   "cell_type": "markdown",
   "id": "0aa987cd-960c-4cba-8372-8dfccffba9f0",
   "metadata": {},
   "source": [
    "from pymongo import MongoClient\n",
    "\n",
    "\n",
    "client = MongoClient(\"mongodb://localhost:27017\")\n",
    "\n",
    "\n",
    "db = client[\"your_database\"]\n",
    "\n",
    "\n",
    "collection = db[\"your_collection\"]\n",
    "\n",
    "\n",
    "document_one = {\"name\": \"John Doe\", \"age\": 30}\n",
    "collection.insert_one(document_one)\n",
    "print(\"One document inserted successfully!\")\n",
    "\n",
    "\n",
    "documents_many = [\n",
    "    {\"name\": \"Jane Smith\", \"age\": 25},\n",
    "    {\"name\": \"David Johnson\", \"age\": 35},\n",
    "    {\"name\": \"Emma Brown\", \"age\": 28}\n",
    "]\n",
    "collection.insert_many(documents_many)\n",
    "print(\"Multiple documents inserted successfully!\")\n",
    "\n",
    "\n",
    "client.close()\n"
   ]
  },
  {
   "cell_type": "markdown",
   "id": "e34ecad4-bccf-49cb-8c7b-31430ae9c287",
   "metadata": {},
   "source": [
    "Q5. Explain how you can use the find() method to query the MongoDB database. Write a simple code to\n",
    "demonstrate this."
   ]
  },
  {
   "cell_type": "markdown",
   "id": "de0130dc-550f-438f-83cd-c4575473e1e7",
   "metadata": {},
   "source": [
    "In mongoDB, the find() method is used to fetch a particular data from the table. In other words, it is used to select data in a table. It is also used to return all events to the selected data. The find() method consists of two parameters by which we can find a particular record."
   ]
  },
  {
   "cell_type": "markdown",
   "id": "a198f757-4437-47ac-b2f8-5dd184956239",
   "metadata": {},
   "source": [
    "Q6. Explain the sort() method. Give an example to demonstrate sorting in MongoDB."
   ]
  },
  {
   "cell_type": "markdown",
   "id": "afb3ab5d-ba72-4210-b005-01d8cf9dbe3f",
   "metadata": {},
   "source": [
    "The sort() method specifies the order in which the query returns the matching documents from the given collection. You must apply this method to the cursor before retrieving any documents from the database. It takes a document as a parameter that contains a field: value pair that defines the sort order of the result set. The value is 1 or -1 specifying an ascending or descending sort respectively."
   ]
  },
  {
   "cell_type": "markdown",
   "id": "3a74c2ff-4117-4035-8696-773f9cde22e7",
   "metadata": {},
   "source": [
    "Q7. Explain why delete_one(), delete_many(), and drop() is used."
   ]
  },
  {
   "cell_type": "markdown",
   "id": "47e0a3c8-bae1-4706-a2cb-cc700ffca297",
   "metadata": {},
   "source": [
    "Delete_many() is used when one needs to delete more than one document. A query object containing which document to be deleted is created and is passed as the first parameter to the delete_many()."
   ]
  },
  {
   "cell_type": "markdown",
   "id": "03454580-7f48-4dcf-977c-ada50e88d367",
   "metadata": {},
   "source": [
    "In MongoDB, a single document can be deleted by the method delete_one(). The first parameter of the method would be a query object which defines the document to be deleted. If there are multiple documents matching the filter query, only the first appeared document would be deleted. "
   ]
  },
  {
   "cell_type": "markdown",
   "id": "adbffbd3-472e-425c-926c-50ed1d69a8ca",
   "metadata": {},
   "source": [
    "You can delete a table, or collection as it is called in MongoDB, by using the drop() method. The drop() method takes a callback function containing the error object and the result parameter which returns true if the collection was dropped successfully, otherwise it returns false."
   ]
  },
  {
   "cell_type": "code",
   "execution_count": null,
   "id": "35e76d32-05d1-4c0e-8410-3a35a2e62be2",
   "metadata": {},
   "outputs": [],
   "source": []
  }
 ],
 "metadata": {
  "kernelspec": {
   "display_name": "Python 3 (ipykernel)",
   "language": "python",
   "name": "python3"
  },
  "language_info": {
   "codemirror_mode": {
    "name": "ipython",
    "version": 3
   },
   "file_extension": ".py",
   "mimetype": "text/x-python",
   "name": "python",
   "nbconvert_exporter": "python",
   "pygments_lexer": "ipython3",
   "version": "3.10.8"
  }
 },
 "nbformat": 4,
 "nbformat_minor": 5
}
