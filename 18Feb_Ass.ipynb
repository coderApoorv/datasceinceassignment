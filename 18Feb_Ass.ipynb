{
 "cells": [
  {
   "cell_type": "markdown",
   "id": "b0a662d9-697a-4540-a35f-57c7eba8c1d7",
   "metadata": {},
   "source": [
    "Q1. What is an API? Give an example, where an API is used in real life."
   ]
  },
  {
   "cell_type": "markdown",
   "id": "270050f2-fe9a-41c4-b47b-fb4db6de4ab5",
   "metadata": {},
   "source": [
    "APIs are used in web applications to connect user-facing front ends with critical back-end functionality and data. APIs are used to deliver material by streaming services such as Spotify and Netflix. APIs are used by automakers such as Tesla to provide software upgrades."
   ]
  },
  {
   "cell_type": "markdown",
   "id": "0372212a-64d2-457c-af10-a3319298a85a",
   "metadata": {},
   "source": [
    "Q2. Give advantages and disadvantages of using API."
   ]
  },
  {
   "cell_type": "markdown",
   "id": "6ff23fad-5757-4718-81ce-86aac62c3381",
   "metadata": {},
   "source": [
    "The major benefit of using an API is accessing and consuming data and services from thousands of independent sources. This means organizations of all sizes can access these functionalities without developing their own specialized applications. Other major benefits to using APIs include: APIs increase business agility."
   ]
  },
  {
   "cell_type": "markdown",
   "id": "eaeac868-0270-4e4f-9dab-9d3308ac5441",
   "metadata": {},
   "source": [
    "Q3. What is a Web API? Differentiate between API and Web API."
   ]
  },
  {
   "cell_type": "markdown",
   "id": "5456337f-5ffb-4e66-bdd5-2169e72c3a04",
   "metadata": {},
   "source": [
    "Web API is an API as the name suggests, it can be accessed over the web using the HTTP protocol. It is a framework that helps you to create and develop HTTP based RESTFUL services."
   ]
  },
  {
   "cell_type": "markdown",
   "id": "a4fa7fdf-f946-44db-a382-c7425d7b51aa",
   "metadata": {},
   "source": [
    "API is an interface that exposes an application's data to outside software, whereas web applications are one type of API with stricter requirements. These requirements include network communication, SOAP as the primary protocol, and less accessibility for the public"
   ]
  },
  {
   "cell_type": "markdown",
   "id": "451b2c16-8cd8-4f6c-bfc4-1fe62dcc9e8a",
   "metadata": {},
   "source": [
    "Q4. Explain REST and SOAP Architecture. Mention shortcomings of SOAP."
   ]
  },
  {
   "cell_type": "markdown",
   "id": "29d60466-7407-4888-ab4c-b834c0daea64",
   "metadata": {},
   "source": [
    "REST is an architecture style for designing communication interfaces. SOAP API exposes the operation. REST API exposes the data. SOAP is independent and can work with any transport protocol."
   ]
  },
  {
   "cell_type": "markdown",
   "id": "8dd3ae2f-b384-43fb-b3e7-5477f9e241a5",
   "metadata": {},
   "source": [
    "API Calls are not Cached. An API call is a process of sending a request when an API has been set up with the necessary endpoints. ...\n",
    "Extremely Complicated. SOAP is substantially more sophisticated than REST. ...\n",
    "No Choice of Data Formats. ...\n",
    "Requires More Bandwidth."
   ]
  },
  {
   "cell_type": "markdown",
   "id": "3ab4641f-0570-4a95-9ceb-fc9f6567bce8",
   "metadata": {},
   "source": [
    "Q5. Differentiate between REST and SOAP."
   ]
  },
  {
   "cell_type": "markdown",
   "id": "5bb9a204-5ce1-41a2-ab42-a3e5c2e1e392",
   "metadata": {},
   "source": [
    "SOAP is a protocol, whereas REST is an architectural style. For example, a SOAP API that exposes functionality to create a user might include a function called \"CreateUser\" that would be specified in the SOAP body. A REST API would instead expose a URL /users, and a POST request towards that URL would create a user"
   ]
  },
  {
   "cell_type": "code",
   "execution_count": null,
   "id": "49a8f11e-c324-4bee-80c1-23b7d8ba6c61",
   "metadata": {},
   "outputs": [],
   "source": []
  }
 ],
 "metadata": {
  "kernelspec": {
   "display_name": "Python 3 (ipykernel)",
   "language": "python",
   "name": "python3"
  },
  "language_info": {
   "codemirror_mode": {
    "name": "ipython",
    "version": 3
   },
   "file_extension": ".py",
   "mimetype": "text/x-python",
   "name": "python",
   "nbconvert_exporter": "python",
   "pygments_lexer": "ipython3",
   "version": "3.10.8"
  }
 },
 "nbformat": 4,
 "nbformat_minor": 5
}
